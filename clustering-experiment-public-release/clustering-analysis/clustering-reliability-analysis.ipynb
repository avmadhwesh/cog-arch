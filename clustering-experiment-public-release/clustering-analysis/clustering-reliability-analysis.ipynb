{
 "cells": [
  {
   "cell_type": "code",
   "execution_count": null,
   "id": "f1f28d19-34c1-4235-a114-8fcc7d8a37b3",
   "metadata": {
    "collapsed": false,
    "jupyter": {
     "outputs_hidden": false
    }
   },
   "outputs": [],
   "source": [
    "import pandas as pd\n",
    "import numpy as np\n",
    "import matplotlib\n",
    "import matplotlib.pyplot as plt\n",
    "import seaborn as sns\n",
    "import statsmodels.api\n",
    "from pathlib import Path\n",
    "import json\n",
    "import scipy\n",
    "\n",
    "import statsmodels.formula.api as smf\n",
    "from statsmodels.graphics.regressionplots import plot_ceres_residuals"
   ]
  },
  {
   "cell_type": "code",
   "execution_count": null,
   "id": "14d4dd97-60a3-452a-a6d5-6ecee4b551bd",
   "metadata": {
    "collapsed": false,
    "jupyter": {
     "outputs_hidden": false
    }
   },
   "outputs": [],
   "source": [
    "matplotlib.rcParams.update({'font.family': 'Inter'})\n",
    "matplotlib.rcParams.update({'font.size': 12})\n",
    "matplotlib.rcParams.update({'savefig.bbox': 'tight'})"
   ]
  },
  {
   "cell_type": "code",
   "execution_count": null,
   "id": "690368e8-b471-44be-baf1-b1639d058932",
   "metadata": {
    "collapsed": false,
    "jupyter": {
     "outputs_hidden": false
    }
   },
   "outputs": [],
   "source": [
    "def get_partial_eta_squared(lm):\n",
    "    if not isinstance(lm, statsmodels.regression.linear_model.RegressionResultsWrapper):\n",
    "        raise Exception('Invalid argument, need regression model')\n",
    "\n",
    "    aov = statsmodels.api.stats.anova_lm(lm)\n",
    "    \n",
    "    sseffect = aov[\"sum_sq\"].iloc[:-1]\n",
    "\n",
    "    sstotal = np.sum(aov[\"sum_sq\"])\n",
    "\n",
    "    partial_eta_squared = sseffect / sstotal\n",
    "    partial_eta_squared.name = 'partial_eta_squared'\n",
    "\n",
    "    return partial_eta_squared"
   ]
  },
  {
   "cell_type": "code",
   "execution_count": null,
   "id": "0edb3db3-f061-46bb-85ad-0d3215ee1073",
   "metadata": {
    "collapsed": false,
    "jupyter": {
     "outputs_hidden": false
    }
   },
   "outputs": [],
   "source": [
    "df = pd.read_json(\"data/clustering-pairs.json\").dropna()\n",
    "df['online'] = df['experiment_version'] != 1\n",
    "df.head()"
   ]
  },
  {
   "cell_type": "code",
   "execution_count": null,
   "id": "00897fc1-ff3a-49da-862e-d3be0861c690",
   "metadata": {
    "collapsed": false,
    "jupyter": {
     "outputs_hidden": false
    }
   },
   "outputs": [],
   "source": [
    "df['duration_stim_1'].median()"
   ]
  },
  {
   "cell_type": "code",
   "execution_count": null,
   "id": "0af91046-2642-4516-9211-74276e668005",
   "metadata": {
    "collapsed": false,
    "jupyter": {
     "outputs_hidden": false
    }
   },
   "outputs": [],
   "source": [
    "plt.hist(df[\"fowlkes_mallows_index\"])"
   ]
  },
  {
   "cell_type": "code",
   "execution_count": null,
   "id": "e72f6ebe-60e1-4ed2-8b43-c5bd2186092b",
   "metadata": {
    "collapsed": false,
    "jupyter": {
     "outputs_hidden": false
    }
   },
   "outputs": [],
   "source": [
    "print(df[\"fowlkes_mallows_index\"].mean())\n",
    "print(df[\"fowlkes_mallows_index\"].median())\n",
    "print(df['fowlkes_mallows_index'].std())"
   ]
  },
  {
   "cell_type": "code",
   "execution_count": null,
   "id": "fd130fd6-58d2-4624-a41b-ef05ae914b46",
   "metadata": {
    "collapsed": false,
    "jupyter": {
     "outputs_hidden": false
    }
   },
   "outputs": [],
   "source": [
    "g = sns.FacetGrid(col=\"number_of_points\", row=\"group\", data=df)\n",
    "g.map(sns.histplot, \"fowlkes_mallows_index\")"
   ]
  },
  {
   "cell_type": "code",
   "execution_count": null,
   "id": "f3037f71-3dc3-4952-b993-6518ef587342",
   "metadata": {
    "collapsed": false,
    "jupyter": {
     "outputs_hidden": false
    }
   },
   "outputs": [],
   "source": [
    "\n",
    "\n",
    "tmp = df.groupby(['number_of_points', 'group']).agg({'fowlkes_mallows_index': 'median'}).reset_index()\n",
    "fig, ax = plt.subplots(figsize=(6, 3.5))\n",
    "\n",
    "for group in [\"clustered\", \"disperse\"]:\n",
    "    filtered = tmp[tmp[\"group\"] == group].sort_values(\"number_of_points\")\n",
    "    label = 'Clustered' if group == 'clustered' else 'Dispersed'\n",
    "    ax.plot(filtered[\"number_of_points\"], filtered[\"fowlkes_mallows_index\"], label=label)\n",
    "\n",
    "\n",
    "\n",
    "\n",
    "ax.set_ylim(0.5, 1)\n",
    "fig.legend(bbox_to_anchor=(0.95, 0.93))\n",
    "fig.tight_layout()\n",
    "ax.set_xlabel(\"Number of Points\")\n",
    "ax.set_ylabel(\"Median Fowlkes Mallows index\")\n",
    "plt.savefig('internal_clustering_reliability.png', dpi=600)\n"
   ]
  },
  {
   "cell_type": "code",
   "execution_count": null,
   "id": "38b82efb-96cb-4760-a861-a460b19d95ae",
   "metadata": {
    "collapsed": false,
    "jupyter": {
     "outputs_hidden": false
    }
   },
   "outputs": [],
   "source": [
    "sns.catplot(data=df, kind=\"bar\", x=\"flipped\", y=\"fowlkes_mallows_index\", hue=\"group\")\n"
   ]
  },
  {
   "cell_type": "code",
   "execution_count": null,
   "id": "baa46862-fa83-4728-b7a7-225bae398784",
   "metadata": {
    "collapsed": false,
    "jupyter": {
     "outputs_hidden": false
    }
   },
   "outputs": [],
   "source": [
    "# How similar are the number of participants clusters generally between stimuli?\n",
    "\n",
    "df[\"number_of_clusters_diff\"] = df[\"number_of_clusters_stim_1\"] - df[\"number_of_clusters_stim_2\"]\n",
    "df[\"abs_number_of_clusters_diff\"] = np.abs(df[\"number_of_clusters_diff\"])\n",
    "\n",
    "df['cluster_structure'] = df['group'].map({'disperse': 'Dispersed', 'clustered': \"Clustered\"})\n",
    "\n",
    "df['cluster_structure'] = pd.Categorical(df['cluster_structure'], categories=['Clustered', 'Dispersed'], ordered=True)\n",
    "tmp = df[\"number_of_clusters_diff\"]\n",
    "g = sns.FacetGrid(col='cluster_structure', data=df, hue='cluster_structure')\n",
    "g.set_titles(col_template='{col_name}')\n",
    "g.map(sns.histplot, 'abs_number_of_clusters_diff', binwidth=1)\n",
    "\n",
    "\n",
    "fig = g.figure\n",
    "\n",
    "fig.supxlabel(\"Absolute difference in number of clusters\")\n",
    "\n",
    "g.set_xlabels(\"\")\n",
    "\n",
    "fig.tight_layout()\n",
    "\n",
    "# sns.histplot(x=\"abs_number_of_clusters_diff\", hue='cluster_structure', binwidth=1, data=df, ax=ax)\n",
    "# # ax.hist(np.abs(df[\"number_of_clusters_diff\"]), bins=20)\n",
    "# ax.set_xlabel(\"Difference in number of clusters\")\n",
    "# ax.set_ylabel(\"# trials\")\n",
    "\n",
    "# ax.get_legend().set_title('Cluster Structure')\n",
    "# print(tmp.describe())\n",
    "# print(tmp.median(), tmp.std())\n",
    "# fig.tight_layout()\n",
    "fig.savefig('number-of-clusters-difference-histogram.png', dpi=600)\n"
   ]
  },
  {
   "cell_type": "code",
   "execution_count": null,
   "id": "dab809df-d306-4f17-9789-2e046596d4db",
   "metadata": {
    "collapsed": false,
    "jupyter": {
     "outputs_hidden": false
    }
   },
   "outputs": [],
   "source": [
    "\n",
    "sns.barplot(x=df['number_of_points'], y=np.abs(df['number_of_clusters_diff']))"
   ]
  },
  {
   "cell_type": "code",
   "execution_count": null,
   "id": "8982b9df-a1c3-4f28-abe2-59f97bccfaa2",
   "metadata": {
    "collapsed": false,
    "jupyter": {
     "outputs_hidden": false
    }
   },
   "outputs": [],
   "source": [
    "tmp = df.groupby(['participant_id', 'number_of_points', 'group']).agg({'number_of_clusters_diff': 'mean'}).reset_index()\n",
    "\n",
    "smf.ols(\"abs(number_of_clusters_diff) ~ 1 + number_of_points + group\", data=tmp).fit().summary()"
   ]
  },
  {
   "cell_type": "code",
   "execution_count": null,
   "id": "445e4d0f-198f-488e-8460-0ff38f0970b8",
   "metadata": {
    "collapsed": false,
    "jupyter": {
     "outputs_hidden": false
    }
   },
   "outputs": [],
   "source": [
    "\n",
    "tmpcol = df[\"number_of_clusters_diff\"]\n",
    "print(len(df[tmpcol == 0]) / len(df))\n",
    "\n",
    "# 62% of plus or minus 1 clusters the second time\n",
    "print(len(df[np.logical_and(tmpcol >= -1, tmpcol <= 1)]) / len(df))"
   ]
  },
  {
   "cell_type": "code",
   "execution_count": null,
   "id": "9e6d5e14-f489-4fb3-a868-14f390d4ed02",
   "metadata": {
    "collapsed": false,
    "jupyter": {
     "outputs_hidden": false
    }
   },
   "outputs": [],
   "source": [
    "cdf = pd.read_csv(\"data/clustering-cross-participants.csv\")\n",
    "cdf"
   ]
  },
  {
   "cell_type": "code",
   "execution_count": null,
   "id": "f9ad4418-c8b7-4702-8b0d-40fcdb7b3603",
   "metadata": {
    "collapsed": false,
    "jupyter": {
     "outputs_hidden": false
    }
   },
   "outputs": [],
   "source": [
    "cdf.groupby('participant_id_1').agg({'fowlkes_mallows_index': 'median'}).sort_values('fowlkes_mallows_index')"
   ]
  },
  {
   "cell_type": "code",
   "execution_count": null,
   "id": "6098203a-e5b7-4105-a355-1c71c765f2b4",
   "metadata": {
    "collapsed": false,
    "jupyter": {
     "outputs_hidden": false
    }
   },
   "outputs": [],
   "source": [
    "cdf.groupby('participant_id_1').agg({'fowlkes_mallows_index': 'median'}).sort_values('fowlkes_mallows_index')['fowlkes_mallows_index'].mean()"
   ]
  },
  {
   "cell_type": "code",
   "execution_count": null,
   "id": "ba1e3cb1-1bf7-4a75-8046-f8eb9aa55064",
   "metadata": {
    "collapsed": false,
    "jupyter": {
     "outputs_hidden": false
    }
   },
   "outputs": [],
   "source": [
    "tmp = cdf.groupby(['cluster_structure']).agg({'fowlkes_mallows_index': 'mean'}).reset_index()\n",
    "tmp"
   ]
  },
  {
   "cell_type": "code",
   "execution_count": null,
   "id": "1d45de51-0d7a-447f-af55-dd62a3a2e7d6",
   "metadata": {
    "collapsed": false,
    "jupyter": {
     "outputs_hidden": false
    }
   },
   "outputs": [],
   "source": [
    "tmp = cdf.groupby(['cluster_structure', 'number_of_points']).agg({'fowlkes_mallows_index': 'median'}).reset_index()\n",
    "\n",
    "fig, ax = plt.subplots(figsize=(6, 3.5))\n",
    "\n",
    "ax.plot(tmp[tmp[\"cluster_structure\"] == \"clustered\"]['number_of_points'], tmp[tmp[\"cluster_structure\"] == \"clustered\"]['fowlkes_mallows_index'], label='Clustered')\n",
    "\n",
    "ax.plot(tmp[tmp[\"cluster_structure\"] == \"disperse\"]['number_of_points'], tmp[tmp[\"cluster_structure\"] == \"disperse\"]['fowlkes_mallows_index'], label='Dispersed')\n",
    "\n",
    "ax.set_ylim(0.5, 1)\n",
    "ax.set_xlabel('Number of Points')\n",
    "ax.set_ylabel('Median Fowlkes Mallows Index')\n",
    "\n",
    "fig.legend(loc='upper right', bbox_to_anchor=(0.95, 0.93))\n",
    "\n",
    "fig.tight_layout()\n",
    "\n",
    "plt.savefig('external_clustering_reliability.png', dpi=600)"
   ]
  },
  {
   "cell_type": "code",
   "execution_count": null,
   "id": "34e124ff-3596-46c1-a5c8-4b92d956ae97",
   "metadata": {
    "collapsed": false,
    "jupyter": {
     "outputs_hidden": false
    }
   },
   "outputs": [],
   "source": [
    "cdf['fowlkes_mallows_index'].hist()"
   ]
  },
  {
   "cell_type": "markdown",
   "id": "65a96ade-c54a-4b09-8e85-512265f8d21b",
   "metadata": {
    "collapsed": false,
    "jupyter": {
     "outputs_hidden": false
    }
   },
   "source": [
    "## Publication statistical analyses"
   ]
  },
  {
   "cell_type": "code",
   "execution_count": null,
   "id": "0e53c424-6a66-46e2-9eb5-8c3317b56d47",
   "metadata": {
    "collapsed": false,
    "jupyter": {
     "outputs_hidden": false
    }
   },
   "outputs": [],
   "source": [
    "tmp = df.groupby(['participant_id', 'number_of_points', 'group', 'flipped']).agg({'fowlkes_mallows_index': 'median'}).reset_index()\n",
    "# smf.ols(\"fowlkes_mallows_index ~ 1 + number_of_points + group\", data=tmp).fit().summary()\n",
    "model = smf.ols(\"fowlkes_mallows_index ~ 1 + flipped\", data=tmp).fit()\n",
    "print(model.summary())\n",
    "print(df.groupby('flipped').agg(dict(fowlkes_mallows_index='mean')))\n",
    "print(get_partial_eta_squared(model))\n"
   ]
  },
  {
   "cell_type": "code",
   "execution_count": null,
   "id": "39d52ba3-6d04-4dfd-882f-d6bff6928819",
   "metadata": {
    "collapsed": false,
    "jupyter": {
     "outputs_hidden": false
    }
   },
   "outputs": [],
   "source": [
    "df.groupby('group').agg(dict(fowlkes_mallows_index='mean'))"
   ]
  },
  {
   "cell_type": "code",
   "execution_count": null,
   "id": "bedb596f-1b81-4ac6-9350-60050b3f6d03",
   "metadata": {
    "collapsed": false,
    "jupyter": {
     "outputs_hidden": false
    }
   },
   "outputs": [],
   "source": [
    "trials = [dt for t in [json.loads(p.read_bytes()) for p in Path(\"data/normalized_clustering_trials/\").glob(\"*.json\")] for dt in t]"
   ]
  },
  {
   "cell_type": "code",
   "execution_count": null,
   "id": "d3645126-a5ac-4ed7-a068-9efb45a25153",
   "metadata": {
    "collapsed": false,
    "jupyter": {
     "outputs_hidden": false
    }
   },
   "outputs": [],
   "source": [
    "def get_points(trial):\n",
    "    return [p for c in trial['clusters'] for p in c['points']]\n",
    "\n",
    "def point_distance(x, y):\n",
    "    return ((x['x'] - y['x']) ** 2 + (x['y'] - y['y']) ** 2) ** 0.5\n",
    "\n",
    "def trial_cluster_sets(clusters):\n",
    "    sets = []\n",
    "    for c in clusters:\n",
    "        cs = set()\n",
    "        for p in c['points']:\n",
    "            cs.add((p['x'], p['y']))\n",
    "        sets.append(cs)\n",
    "    return sets\n",
    "\n",
    "def find_cluster_index(css, point):\n",
    "    for idx, cs in enumerate(css):\n",
    "        if (point['x'], point['y']) in cs:\n",
    "            return idx\n",
    "    return None\n",
    "\n",
    "def is_same_cluster(css, p1, p2):\n",
    "    i1 = find_cluster_index(css, p1)\n",
    "    i2 = find_cluster_index(css, p2)\n",
    "    return i1 == i2\n",
    "\n",
    "items = []\n",
    "\n",
    "for trial in trials:\n",
    "\n",
    "    ps = get_points(trial)\n",
    "\n",
    "    css = trial_cluster_sets(trial['clusters'])\n",
    "    \n",
    "\n",
    "    for p1 in ps:\n",
    "        for p2 in ps:\n",
    "            if not (p1['x'] == p2['x'] and p1['y'] == p2['y']):\n",
    "               d = point_distance(p1, p2)\n",
    "               items.append((d, is_same_cluster(css, p1, p2), trial['group'], trial['participant_id'], trial['base_uuid']))\n",
    "\n",
    "df = pd.DataFrame(items, columns=('distance', 'same', 'cluster_structure', 'participant_id', 'base_uuid')).sort_values('distance')\n",
    "df.head()\n",
    "        "
   ]
  },
  {
   "cell_type": "code",
   "execution_count": null,
   "id": "339bd513-fe9c-46fb-93a2-63636f293d2d",
   "metadata": {
    "collapsed": false,
    "jupyter": {
     "outputs_hidden": false
    }
   },
   "outputs": [],
   "source": [
    "\n",
    "fig, ax = plt.subplots()\n",
    "\n",
    "tmp1 = df[df['cluster_structure'] == 'disperse']\n",
    "tmp = tmp1.groupby(pd.cut(tmp1['distance'], 100)).agg(same=('same', 'mean'), x_val=('distance', 'mean')).dropna()\n",
    "ax.plot(tmp['x_val'], tmp['same'], label='Dispersed stimuli')\n",
    "tmp1 = df[df['cluster_structure'] == 'clustered']\n",
    "tmp = tmp1.groupby(pd.cut(tmp1['distance'], 100)).agg(same=('same', 'mean'), x_val=('distance', 'mean')).dropna()\n",
    "ax.plot(tmp['x_val'], tmp['same'], label='Clustered stimuli')\n",
    "\n",
    "ax.legend()\n",
    "\n"
   ]
  },
  {
   "cell_type": "code",
   "execution_count": null,
   "id": "e7c255ac-9d7a-4943-8c17-8596bfb74978",
   "metadata": {
    "collapsed": false,
    "jupyter": {
     "outputs_hidden": false
    }
   },
   "outputs": [],
   "source": [
    "\n",
    "tmp = df.groupby([pd.cut(df['distance'], 700), 'cluster_structure']).agg(same=('same', 'mean'), x_val=('distance', 'mean')).dropna().reset_index()\n",
    "\n",
    "tmp['cluster_structure'] = pd.Categorical(tmp['cluster_structure'])\n",
    "\n",
    "smf.ols('same ~ 1 + x_val * cluster_structure', data=tmp).fit().summary()\n"
   ]
  },
  {
   "cell_type": "code",
   "execution_count": null,
   "id": "fbe1c52f-763c-4a4f-8ec2-a53943c59262",
   "metadata": {
    "collapsed": false,
    "jupyter": {
     "outputs_hidden": false
    }
   },
   "outputs": [],
   "source": [
    "tmp = df.groupby([pd.cut(df['distance'], 700), 'cluster_structure', 'participant_id']).agg(same=('same', 'mean'), x_val=('distance', 'mean')).dropna().reset_index()\n",
    "\n",
    "tmp['cluster_structure'] = pd.Categorical(tmp['cluster_structure'])\n",
    "tmp"
   ]
  },
  {
   "cell_type": "code",
   "execution_count": null,
   "id": "6d01eefd-7ae5-4c4a-a304-e757901f8303",
   "metadata": {
    "collapsed": false,
    "jupyter": {
     "outputs_hidden": false
    }
   },
   "outputs": [],
   "source": [
    "\n",
    "fig, ax = plt.subplots()\n",
    "\n",
    "tmp1 = df[df['cluster_structure'] == 'clustered']\n",
    "tmp = tmp1.groupby(pd.cut(tmp1['distance'], 100)).agg(same=('same', 'mean'), x_val=('distance', 'mean')).dropna()\n",
    "ax.plot(tmp['x_val'], tmp['same'], label='Participants: Clustered stimuli')\n",
    "tmp1 = df[df['cluster_structure'] == 'disperse']\n",
    "tmp = tmp1.groupby(pd.cut(tmp1['distance'], 100)).agg(same=('same', 'mean'), x_val=('distance', 'mean')).dropna()\n",
    "ax.plot(tmp['x_val'], tmp['same'], label='Participants: Dispersed stimuli')\n",
    "\n",
    "\n",
    "tmp = df.groupby(pd.cut(df['distance'], 700)).agg(same=('same', 'mean'), x_val=('distance', 'mean')).dropna()\n",
    "\n",
    "# Normal distribution line\n",
    "ax.plot(np.linspace(0, np.max(tmp['x_val']), len(tmp)),  scipy.stats.norm.pdf(np.linspace(0, np.max(tmp['x_val']), len(tmp)), 0, 144.34) * 332.021 + 0.05835314332011721, label='Normal fit', linestyle='dashed', alpha=0.5)\n",
    "\n",
    "# Negative exponential\n",
    "ax.plot(np.linspace(0, np.max(tmp['x_val']), len(tmp)),  np.exp(-0.00498114 * np.linspace(0, np.max(tmp['x_val']), len(tmp)) + 0.007978), label='Negative exponential fit', linestyle='dashdot', alpha=0.5)\n",
    "\n",
    "ax.plot(np.linspace(64, np.max(tmp['x_val']), len(tmp)), (np.linspace(65, np.max(tmp['x_val']), len(tmp)) ** -1.3093910596756446) *  np.exp(5.484323759255021), label='Power fit', linestyle='dotted', alpha=0.5)\n",
    "ax.set_xlabel('Distance between points')\n",
    "ax.set_ylabel('P(points in same cluster)')\n",
    "\n",
    "fig.legend(bbox_to_anchor=(0.95, 0.95))\n",
    "\n",
    "fig.tight_layout()\n",
    "\n",
    "fig.savefig('distance_between_points_analysis.png', dpi=600)\n",
    "\n"
   ]
  },
  {
   "cell_type": "code",
   "execution_count": null,
   "id": "691c47d8-8a8c-4b99-866e-cc43e4cbcd74",
   "metadata": {
    "collapsed": false,
    "jupyter": {
     "outputs_hidden": false
    }
   },
   "outputs": [],
   "source": [
    "tmp1 = tmp.sort_values(['x_val'], ascending=True).dropna()\n",
    "tmp_tests = []\n",
    "linresults = []\n",
    "for sd in np.arange(140, 150, 0.01):\n",
    "    col = tmp1['same']\n",
    "    preds = scipy.stats.norm.pdf(tmp1['x_val'], 0, sd)\n",
    "    result = scipy.stats.linregress(preds, col)\n",
    "    linresults.append(result)\n",
    "    tmp_tests.append([sd, result.rvalue ** 2, result.slope, result.intercept, result.pvalue])\n",
    "\n",
    "\n",
    "tmp_tests = np.array(tmp_tests)\n",
    "tmp_tests[tmp_tests[:, 1].argsort()][-1]\n",
    "\n",
    "linresults[tmp_tests[:, 1].argsort()[-1]]\n",
    "    # plt.plot(np.linspace(0, sd * 4, 1000), scipy.stats.norm.pdf(np.linspace(0, sd * 4, 1000), 0, sd))"
   ]
  },
  {
   "cell_type": "code",
   "execution_count": null,
   "id": "25b1c30a-e6e8-42a0-9fa3-840ed62bed43",
   "metadata": {
    "collapsed": false,
    "jupyter": {
     "outputs_hidden": false
    }
   },
   "outputs": [],
   "source": [
    "tmp1 = tmp.sort_values(['x_val'], ascending=True).dropna()\n",
    "scipy.stats.linregress(tmp1['x_val'], -1 * np.log(tmp1['same']))"
   ]
  },
  {
   "cell_type": "code",
   "execution_count": null,
   "id": "eb147490-90dd-48af-ac3c-dbb5c8c86e35",
   "metadata": {
    "collapsed": false,
    "jupyter": {
     "outputs_hidden": false
    }
   },
   "outputs": [],
   "source": [
    "tmp1 = tmp.sort_values(['x_val'], ascending=True).dropna()\n",
    "scipy.stats.linregress(np.log(tmp1['x_val']), np.log(tmp1['same']))"
   ]
  },
  {
   "cell_type": "code",
   "execution_count": null,
   "id": "eee339d0-f7a7-4fd9-ad8c-542f98829902",
   "metadata": {
    "collapsed": false,
    "jupyter": {
     "outputs_hidden": false
    }
   },
   "outputs": [],
   "source": [
    "def bucketed_means(inp, n_buckets):\n",
    "    groups = pd.cut(inp, 100)\n",
    "    tdf = pd.DataFrame({\"rvs\": tmp}).groupby(groups).agg({'rvs': 'mean'}).reset_index().dropna()\n",
    "    return tdf['rvs']\n",
    "\n",
    "fig, ax = plt.subplots()\n",
    "\n",
    "\n",
    "    \n",
    "sns.kdeplot(scipy.stats.halfnorm.rvs(size=100000), bw_adjust=0.1, ax=ax)\n",
    "\n",
    "ax.set_xlim(0, 4)\n",
    "\n",
    "\n"
   ]
  },
  {
   "cell_type": "code",
   "execution_count": null,
   "id": "9528b2b0-6545-4904-a74b-4570abd18d1f",
   "metadata": {
    "collapsed": false,
    "jupyter": {
     "outputs_hidden": false
    }
   },
   "outputs": [],
   "source": [
    "tmp = df.groupby(pd.cut(df['distance'], 700)).agg(same=('same', 'mean'), x_val=('distance', 'mean'))\n",
    "plt.plot(tmp['x_val'] / 200, tmp['same'] * 0.8)"
   ]
  },
  {
   "cell_type": "code",
   "execution_count": null,
   "id": "efb8c0f4-9ff3-4e52-944b-bae51333237c",
   "metadata": {
    "collapsed": false,
    "jupyter": {
     "outputs_hidden": false
    }
   },
   "outputs": [],
   "source": [
    "def apply_func(dfs):\n",
    "    clusters1 = dfs.iloc[0]['clusters']\n",
    "    clusters2 = dfs.iloc[1]['clusters']\n",
    "    points = [p for c in clusters1 for p in c['points']]\n",
    "    css1 = trial_cluster_sets(clusters1)\n",
    "    css2 = trial_cluster_sets(clusters2)\n",
    "\n",
    "    items = []\n",
    "\n",
    "    for p1 in ps:\n",
    "        for p2 in ps:\n",
    "            if not (p1['x'] == p2['x'] and p1['y'] == p2['y']):\n",
    "               d = point_distance(p1, p2)\n",
    "               same1 = is_same_cluster(css1, p1, p2)\n",
    "               same2 = is_same_cluster(css2, p1, p2)\n",
    "               reliability = same1 == same2\n",
    "               items.append(dict(distance=d, reliability=reliability))\n",
    "               \n",
    "    return pd.DataFrame.from_records(items)\n",
    "    \n",
    "    \n",
    "\n",
    "rdf = pd.DataFrame.from_records(trials).groupby(['participant_id', 'base_uuid']).apply(apply_func).reset_index()\n",
    "rdf.head()"
   ]
  },
  {
   "cell_type": "code",
   "execution_count": null,
   "id": "6269457e-0a74-4778-b872-4a574d40bf81",
   "metadata": {
    "collapsed": false,
    "jupyter": {
     "outputs_hidden": false
    }
   },
   "outputs": [],
   "source": [
    "tmp = rdf.groupby(pd.cut(rdf['distance'], 30)).agg(x_val=('distance', 'mean'), reliability=('reliability', 'mean'))\n",
    "plt.plot(tmp['x_val'], tmp['reliability'])"
   ]
  },
  {
   "cell_type": "code",
   "execution_count": null,
   "id": "dc6353a7-ae48-4c82-bdd0-5897c2b37cda",
   "metadata": {
    "collapsed": false,
    "jupyter": {
     "outputs_hidden": false
    }
   },
   "outputs": [],
   "source": []
  },
  {
   "cell_type": "code",
   "execution_count": null,
   "id": "57ade272-918a-4cec-9aed-db02e7762055",
   "metadata": {
    "collapsed": false,
    "jupyter": {
     "outputs_hidden": false
    }
   },
   "outputs": [],
   "source": []
  },
  {
   "cell_type": "code",
   "execution_count": null,
   "id": "72dfd9e8-0423-40e7-a16c-698a3cfffb12",
   "metadata": {},
   "outputs": [],
   "source": []
  }
 ],
 "metadata": {
  "kernelspec": {
   "display_name": "Python 3 (ipykernel)",
   "language": "python",
   "name": "python3"
  },
  "language_info": {
   "codemirror_mode": {
    "name": "ipython",
    "version": 3
   },
   "file_extension": ".py",
   "mimetype": "text/x-python",
   "name": "python",
   "nbconvert_exporter": "python",
   "pygments_lexer": "ipython3",
   "version": "3.12.6"
  },
  "name": "clustering-reliability-analysis.ipynb"
 },
 "nbformat": 4,
 "nbformat_minor": 5
}
