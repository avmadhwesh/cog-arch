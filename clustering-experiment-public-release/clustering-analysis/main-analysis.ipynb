{
 "cells": [
  {
   "cell_type": "code",
   "execution_count": null,
   "id": "85260800-8bf6-4f87-becc-f2d7e0052604",
   "metadata": {
    "collapsed": false,
    "jupyter": {
     "outputs_hidden": false
    }
   },
   "outputs": [],
   "source": [
    "%load_ext autoreload\n",
    "%autoreload 2\n",
    "\n",
    "import pandas as pd\n",
    "import matplotlib.pyplot as plt\n",
    "import matplotlib\n",
    "import clustering_analysis\n",
    "from clustering_analysis import Cluster\n",
    "import numpy as np\n",
    "import seaborn as sns\n",
    "import scipy.stats\n",
    "import scipy.spatial\n",
    "import statsmodels\n",
    "import statsmodels.api as sm\n",
    "import statsmodels.formula.api as smf\n",
    "\n",
    "matplotlib.rcParams['font.family'] = \"Inter\"\n",
    "matplotlib.rcParams[\"savefig.bbox\"] = 'tight'"
   ]
  },
  {
   "cell_type": "code",
   "execution_count": null,
   "id": "8d61d848-8097-4613-adcd-f9abf3cbac80",
   "metadata": {
    "collapsed": false,
    "jupyter": {
     "outputs_hidden": false
    }
   },
   "outputs": [],
   "source": [
    "def get_partial_eta_squared(lm):\n",
    "    if not isinstance(lm, statsmodels.regression.linear_model.RegressionResultsWrapper):\n",
    "        raise Exception('Invalid argument, need regression model')\n",
    "\n",
    "    aov = statsmodels.stats.anova.anova_lm(lm)\n",
    "    \n",
    "    sseffect = aov[\"sum_sq\"].iloc[:-1]\n",
    "\n",
    "    sstotal = np.sum(aov[\"sum_sq\"])\n",
    "\n",
    "    partial_eta_squared = sseffect / sstotal\n",
    "    partial_eta_squared.name = 'partial_eta_squared'\n",
    "\n",
    "    return partial_eta_squared\n",
    "\n",
    "GRAPH_LABELS = {\n",
    "    \"area\": \"Area ($\\\\mathrm{px}^2$)\",\n",
    "    \"numerosity\": \"Cluster numerosity\",\n",
    "    \"convex_hull_point_percentage\": \"Convex hull point percentage (%)\",\n",
    "    \"density\": \"Density (points per $\\\\mathrm{px}^2$)\",\n",
    "    \"linearity\": \"Linearity ($R^2$)\",\n",
    "    \"cluster_structure\": \"Cluster structure\",\n",
    "    \"number_of_points\": \"Number of points\",\n",
    "    \"duration\": \"Duration (ms)\",\n",
    "    \"n_clusters\": \"Number of clusters\",\n",
    "    \"contribution\": \"Cluster contribution\",\n",
    "    \"clustered\": \"Clustered\",\n",
    "    \"disperse\": \"Dispersed\",\n",
    "    \"dispersed\": \"Dispersed\"\n",
    "}\n"
   ]
  },
  {
   "cell_type": "code",
   "execution_count": null,
   "id": "1a6384d6-65c2-460d-a460-0e5981a42115",
   "metadata": {
    "collapsed": false,
    "jupyter": {
     "outputs_hidden": false
    }
   },
   "outputs": [],
   "source": [
    "clusters_df = clustering_analysis.get_clusters_dataframe()\n",
    "clusters_df['contribution'] = clusters_df['numerosity'] / clusters_df['number_of_points'] * 100\n",
    "clusters_df.head()"
   ]
  },
  {
   "cell_type": "code",
   "execution_count": null,
   "id": "a375453d-e4b7-4901-a9a5-505ce862e7a9",
   "metadata": {},
   "outputs": [],
   "source": [
    "tmp = clusters_df.groupby(['participant_id', 'trial_number', 'number_of_points', 'cluster_structure']).agg({'start_time': 'min'}).reset_index()\n",
    "print(\"Median start time\", np.median(tmp['start_time']))\n",
    "tmp"
   ]
  },
  {
   "cell_type": "code",
   "execution_count": null,
   "id": "6218d7ab-9965-4063-922b-b5055d341b75",
   "metadata": {},
   "outputs": [],
   "source": [
    "sns.barplot(x=\"number_of_points\", y=\"start_time\", hue='cluster_structure', data=tmp.groupby(['number_of_points', 'cluster_structure']).agg({'start_time': 'median'}))"
   ]
  },
  {
   "cell_type": "code",
   "execution_count": null,
   "id": "821bb092-bdb4-4587-a715-ba5a0577bb98",
   "metadata": {
    "collapsed": false,
    "jupyter": {
     "outputs_hidden": false
    }
   },
   "outputs": [],
   "source": [
    "# Normality tests\n",
    "\n",
    "print(clusters_df[['cluster_normality_x', 'cluster_normality_y']].dropna().describe())\n",
    "\n",
    "tmp = clusters_df['cluster_normality_y']\n",
    "\n",
    "print(len(tmp[tmp < 0.05]) / len(tmp))"
   ]
  },
  {
   "cell_type": "code",
   "execution_count": null,
   "id": "4e936e9d-8f6e-43d7-a312-50819d0cf80a",
   "metadata": {
    "collapsed": false,
    "jupyter": {
     "outputs_hidden": false
    }
   },
   "outputs": [],
   "source": [
    "fig, ax = plt.subplots()\n",
    "ax.hist(clusters_df['cluster_normality_x'], bins=30)\n",
    "ax.axvline(0.05, color='black')"
   ]
  },
  {
   "cell_type": "code",
   "execution_count": null,
   "id": "dab2596d-d91f-4304-bd6a-0d8975dc82ad",
   "metadata": {
    "collapsed": false,
    "jupyter": {
     "outputs_hidden": false
    }
   },
   "outputs": [],
   "source": [
    "# 112 trials per participant\n",
    "\n",
    "tmp = clusters_df.groupby(['participant_id', 'trial_number']).count().reset_index()[['participant_id', 'trial_number']].groupby('participant_id').count().reset_index()['trial_number']\n",
    "\n",
    "assert len(np.unique(tmp)) == 1\n",
    "assert tmp.iloc[0] == 112"
   ]
  },
  {
   "cell_type": "code",
   "execution_count": null,
   "id": "7413c883-ab27-4426-946e-637bd068c905",
   "metadata": {
    "collapsed": false,
    "jupyter": {
     "outputs_hidden": false
    }
   },
   "outputs": [],
   "source": [
    "# Individual differences in the number of clusters\n",
    "\n",
    "tmp = clusters_df.groupby('participant_id').agg(number_of_clusters=('duration', 'count')).reset_index()\n",
    "\n",
    "tmp['number_of_clusters'].hist(bins=20)"
   ]
  },
  {
   "cell_type": "markdown",
   "id": "b1772c8a-765a-4d86-9d52-d0935909a057",
   "metadata": {
    "collapsed": false,
    "jupyter": {
     "outputs_hidden": false
    }
   },
   "source": [
    "## Number of clusters analyses"
   ]
  },
  {
   "cell_type": "code",
   "execution_count": null,
   "id": "b867f233-0b1a-4a8f-a054-8828e6630d5a",
   "metadata": {
    "collapsed": false,
    "jupyter": {
     "outputs_hidden": false
    }
   },
   "outputs": [],
   "source": [
    "tmp0 = clusters_df.groupby(['participant_id', 'number_of_points', 'cluster_structure', 'trial_number']).agg(n_clusters=('numerosity', 'count')).reset_index()\n",
    "tmp1 = tmp0.groupby(['cluster_structure', 'number_of_points']).agg(dict(n_clusters='mean')).reset_index()\n",
    "\n",
    "tmp1['cluster_structure'] = tmp1['cluster_structure'].map(GRAPH_LABELS)\n",
    "\n",
    "fig, ax = plt.subplots(figsize=(4, 2))\n",
    "sns.lineplot(x=\"number_of_points\", y=\"n_clusters\", hue=\"cluster_structure\", data=tmp1, ax=ax)\n",
    "\n",
    "ax.set_xlabel(\"Number of points\")\n",
    "ax.set_ylabel(\"Number of clusters\")\n",
    "ax.legend(title=\"Cluster Structure\")\n",
    "plt.savefig(\"number-of-clusters-by-number-of-points.png\", dpi=600)\n",
    "\n",
    "tmp2 = tmp0.groupby(['number_of_points']).agg(dict(n_clusters='median')).reset_index()\n",
    "print(tmp2)\n",
    "print(tmp0['n_clusters'].std())"
   ]
  },
  {
   "cell_type": "code",
   "execution_count": null,
   "id": "8e19ce3c-71d8-4d5a-b1cd-e1f8c12da963",
   "metadata": {
    "collapsed": false,
    "jupyter": {
     "outputs_hidden": false
    }
   },
   "outputs": [],
   "source": [
    "tmp = clusters_df.groupby(['participant_id', 'number_of_points', 'cluster_structure', 'trial_number']).agg(n_clusters=('numerosity', 'count')).reset_index()\n",
    "\n",
    "tmp = tmp.groupby(['participant_id', 'number_of_points', 'cluster_structure']).agg(dict(n_clusters='mean')).reset_index()\n",
    "\n",
    "model = smf.ols(\"n_clusters ~ 1 + number_of_points * cluster_structure\", data=tmp).fit()\n",
    "\n",
    "print(model.summary())\n",
    "print(get_partial_eta_squared(model))"
   ]
  },
  {
   "cell_type": "markdown",
   "id": "32d8d776-fafb-4e50-a284-c82f27a14ccf",
   "metadata": {
    "collapsed": false,
    "jupyter": {
     "outputs_hidden": false
    }
   },
   "source": [
    "## Numerosity investigations"
   ]
  },
  {
   "cell_type": "code",
   "execution_count": null,
   "id": "8c28034f-9089-4b4d-8c7a-9adca907cdec",
   "metadata": {
    "collapsed": false,
    "jupyter": {
     "outputs_hidden": false
    }
   },
   "outputs": [],
   "source": [
    "clusters_df[\"numerosity\"].hist(bins=len(np.unique(clusters_df[\"numerosity\"])))\n",
    "ax = plt.gca()\n",
    "ax.set_ylabel('Counts')\n",
    "ax.set_xlabel('Numerosity')"
   ]
  },
  {
   "cell_type": "code",
   "execution_count": null,
   "id": "0a792084-861b-442a-9a9c-700f0caa0693",
   "metadata": {
    "collapsed": false,
    "jupyter": {
     "outputs_hidden": false
    }
   },
   "outputs": [],
   "source": [
    "#\n",
    "# Numerosities aggregated by participant, and then graphed\n",
    "#\n",
    "\n",
    "tmp = clusters_df.groupby('participant_id').agg({'numerosity': 'median'}).sort_values(['numerosity'])\n",
    "\n",
    "tmp_vs = []\n",
    "for number in np.unique(tmp['numerosity']):\n",
    "    tmp_vs.append([number, len(tmp[tmp['numerosity'] == number]) / len(tmp)])\n",
    "\n",
    "tmp_vs = np.array(tmp_vs)\n",
    "\n",
    "# plt.plot(tmp_vs[:, 0], tmp_vs[:, 1])\n",
    "tmp['numerosity'].hist()\n",
    "# tmp['numerosity'].median()\n",
    "tmp_vs\n"
   ]
  },
  {
   "cell_type": "code",
   "execution_count": null,
   "id": "54c048f6-ebec-4657-9eb9-8aa4ccc8ad19",
   "metadata": {
    "collapsed": false,
    "jupyter": {
     "outputs_hidden": false
    }
   },
   "outputs": [],
   "source": [
    "# Numerosity coverage analysis\n",
    "\n",
    "tmp = clusters_df.groupby(['numerosity']).agg(count=('area', 'count')).sort_values(['numerosity']).reset_index()\n",
    "\n",
    "tmp['coverage'] = tmp['numerosity'] * tmp['count']\n",
    "\n",
    "tmp = tmp.sort_values('coverage', ascending=False)\n",
    "\n",
    "tmp[\"coverage_percentage\"] = tmp[\"coverage\"] / np.sum(tmp[\"coverage\"])  * 100\n",
    "tmp = tmp[:10]\n",
    "\n",
    "sns.barplot(x=[str(x) for x in tmp['numerosity']], y=tmp[\"coverage_percentage\"])\n",
    "plt.savefig('coverage_percentage.png', dpi=600)\n",
    "tmp\n",
    "\n",
    "clusters_df.groupby(['participant_id', 'trial_number']).agg({'number_of_points': 'first'}).reset_index()['number_of_points'].mean()"
   ]
  },
  {
   "cell_type": "code",
   "execution_count": null,
   "id": "b2d295e8-ceb1-41af-b9c5-73a02e2b8422",
   "metadata": {
    "collapsed": false,
    "jupyter": {
     "outputs_hidden": false
    }
   },
   "outputs": [],
   "source": [
    "plt.scatter(clusters_df['numerosity'], clusters_df['area'])\n",
    "plt.xlabel('Numerosity')\n",
    "plt.ylabel('Area')"
   ]
  },
  {
   "cell_type": "code",
   "execution_count": null,
   "id": "d25b95ed-4874-4207-ae0b-6f4fef8e2b07",
   "metadata": {
    "collapsed": false,
    "jupyter": {
     "outputs_hidden": false
    }
   },
   "outputs": [],
   "source": [
    "plt.figure()\n",
    "plt.ylabel('Convex hull point percentage')\n",
    "plt.xlabel('Numerosity')\n",
    "plt.scatter(clusters_df['numerosity'], clusters_df['convex_hull_point_percentage'])"
   ]
  },
  {
   "cell_type": "code",
   "execution_count": null,
   "id": "3c6dfe1c-9dcb-45ff-8b03-5d0570abd88b",
   "metadata": {
    "collapsed": false,
    "jupyter": {
     "outputs_hidden": false
    }
   },
   "outputs": [],
   "source": [
    "sns.barplot(x=\"number_of_points\", y=\"numerosity\", data=clusters_df)"
   ]
  },
  {
   "cell_type": "markdown",
   "id": "813b3a92-dc53-435a-a239-bf3833263000",
   "metadata": {
    "collapsed": false,
    "jupyter": {
     "outputs_hidden": false
    }
   },
   "source": [
    "## Area investigations"
   ]
  },
  {
   "cell_type": "code",
   "execution_count": null,
   "id": "f03bc405-d863-4fc7-add9-ce15f1bd56e8",
   "metadata": {
    "collapsed": false,
    "jupyter": {
     "outputs_hidden": false
    }
   },
   "outputs": [],
   "source": [
    "tmp = clusters_df.groupby(['participant_id', 'number_of_points', 'cluster_structure']).agg({'area': 'median'}).reset_index()\n",
    "# sns.barplot(x=\"cluster_structure\", y=\"area\", data=tmp)\n",
    "tmp['area'].median()"
   ]
  },
  {
   "cell_type": "code",
   "execution_count": null,
   "id": "97a8b624-491a-4ab4-b630-a187a363f2bb",
   "metadata": {
    "collapsed": false,
    "jupyter": {
     "outputs_hidden": false
    }
   },
   "outputs": [],
   "source": [
    "sns.barplot(x=\"number_of_points\", y=\"area\", data=tmp)"
   ]
  },
  {
   "cell_type": "code",
   "execution_count": null,
   "id": "412e8954-9360-4452-835a-6e4b62dde92a",
   "metadata": {
    "collapsed": false,
    "jupyter": {
     "outputs_hidden": false
    }
   },
   "outputs": [],
   "source": [
    "tmp = clusters_df.groupby(['participant_id', 'number_of_points', 'cluster_structure'])"
   ]
  },
  {
   "cell_type": "code",
   "execution_count": null,
   "id": "6bfcdde6-6e14-4b82-a0c0-b8f2e37b4581",
   "metadata": {
    "collapsed": false,
    "jupyter": {
     "outputs_hidden": false
    }
   },
   "outputs": [],
   "source": [
    "tmp = clusters_df[clusters_df[\"numerosity\"] > 2]\n",
    "tmp[\"area\"].describe()\n",
    "tmp.groupby('participant_id').agg({'area': 'median'})['area'].median()\n"
   ]
  },
  {
   "cell_type": "code",
   "execution_count": null,
   "id": "910c0a86-b762-4059-a11b-7157f8e312a5",
   "metadata": {
    "collapsed": false,
    "jupyter": {
     "outputs_hidden": false
    }
   },
   "outputs": [],
   "source": [
    "np.sqrt(clusters_df[\"area\"].median())"
   ]
  },
  {
   "cell_type": "markdown",
   "id": "fef73241-0d73-4e91-af1a-2b8bc2fa0f54",
   "metadata": {
    "collapsed": false,
    "jupyter": {
     "outputs_hidden": false
    }
   },
   "source": [
    "First, let's look at the distributions of the various attributes of the clusters"
   ]
  },
  {
   "cell_type": "code",
   "execution_count": null,
   "id": "82970389-7482-45cc-8a32-828cb9b0fc6e",
   "metadata": {
    "collapsed": false,
    "jupyter": {
     "outputs_hidden": false
    }
   },
   "outputs": [],
   "source": [
    "def distribution_histograms(filter_proc=lambda x: x):\n",
    "    \n",
    "    fig, axs = plt.subplots(nrows=len(clustering_analysis.Cluster.attributes), figsize=(7, 10))\n",
    "    fig.tight_layout()\n",
    "    for idx, (ax, attribute) in enumerate(zip(axs, clustering_analysis.Cluster.attributes)):\n",
    "        vector = filter_proc(clusters_df[attribute]) \n",
    "        ax.hist(vector, bins=20)\n",
    "        ax.set_title(f\"Distribution of values for {attribute}\")\n",
    "        ax.set_ylabel(\"Counts\")\n",
    "        ax.set_xlabel(attribute)\n",
    "\n",
    "    fig.subplots_adjust(hspace=1)\n",
    "\n",
    "\n",
    "# distribution_histograms()"
   ]
  },
  {
   "cell_type": "markdown",
   "id": "d2fda6b1-b4db-4fdc-90b2-66ef18277271",
   "metadata": {
    "collapsed": false,
    "jupyter": {
     "outputs_hidden": false
    }
   },
   "source": [
    "As we see, there are long tails. Let us now graph the 75% percentile (only meaningful for left leaning histograms)"
   ]
  },
  {
   "cell_type": "code",
   "execution_count": null,
   "id": "5c2f905f-36b2-41f5-987b-0bc8e731ea1f",
   "metadata": {
    "collapsed": false,
    "jupyter": {
     "outputs_hidden": false
    }
   },
   "outputs": [],
   "source": [
    "def filter_proc(v):\n",
    "    return v[v < np.percentile(v, 75)]\n",
    "\n",
    "# distribution_histograms(filter_proc)"
   ]
  },
  {
   "cell_type": "markdown",
   "id": "ab4cd8ea-453c-4b2d-9b1d-78af5a187a8e",
   "metadata": {
    "collapsed": false,
    "jupyter": {
     "outputs_hidden": false
    }
   },
   "source": [
    "What are the median and mean values for the attributes?\n",
    "\n"
   ]
  },
  {
   "cell_type": "code",
   "execution_count": null,
   "id": "a2cce35b-5bc7-499e-a1f5-9149dd986f07",
   "metadata": {
    "collapsed": false,
    "jupyter": {
     "outputs_hidden": false
    }
   },
   "outputs": [],
   "source": [
    "clusters_df[Cluster.attributes].describe()"
   ]
  },
  {
   "cell_type": "markdown",
   "id": "5dea9c67-76ad-4a43-bee9-a03a2271a664",
   "metadata": {
    "collapsed": false,
    "jupyter": {
     "outputs_hidden": false
    }
   },
   "source": [
    "Number of clusters with numerosity >= 8."
   ]
  },
  {
   "cell_type": "code",
   "execution_count": null,
   "id": "fdeae104-668e-4437-a4e8-9acc39c6a61a",
   "metadata": {
    "collapsed": false,
    "jupyter": {
     "outputs_hidden": false
    }
   },
   "outputs": [],
   "source": [
    "len(clusters_df[clusters_df['numerosity'] > 8]) / len(clusters_df)"
   ]
  },
  {
   "cell_type": "markdown",
   "id": "5c11ad52-5081-4eab-b3c9-b2e39a2c8d53",
   "metadata": {
    "collapsed": false,
    "jupyter": {
     "outputs_hidden": false
    }
   },
   "source": [
    "Are these variables normal?"
   ]
  },
  {
   "cell_type": "code",
   "execution_count": null,
   "id": "750117b6-aa5f-481d-81fa-e1c9bfe06b14",
   "metadata": {
    "collapsed": false,
    "jupyter": {
     "outputs_hidden": false
    }
   },
   "outputs": [],
   "source": [
    "scipy.stats.normaltest(clusters_df[Cluster.attributes])"
   ]
  },
  {
   "cell_type": "markdown",
   "id": "961da5ec-b26d-48c9-9000-62ca163903fa",
   "metadata": {
    "collapsed": false,
    "jupyter": {
     "outputs_hidden": false
    }
   },
   "source": [
    "Nope..."
   ]
  },
  {
   "cell_type": "markdown",
   "id": "a427caf7-919f-46e0-a696-cadf22e6933c",
   "metadata": {
    "collapsed": false,
    "jupyter": {
     "outputs_hidden": false
    }
   },
   "source": [
    "Let's look at the correlation matrix between the various attributes"
   ]
  },
  {
   "cell_type": "code",
   "execution_count": null,
   "id": "c41bfc7b-54ff-45e5-bf5b-5a75949eba5b",
   "metadata": {
    "collapsed": false,
    "jupyter": {
     "outputs_hidden": false
    }
   },
   "outputs": [],
   "source": [
    "tmp = clusters_df.groupby(['participant_id', 'trial_number']).agg(n_clusters=('numerosity', 'count')).reset_index()\n",
    "\n",
    "clusters_df_with_n_clusters = clusters_df.merge(tmp, on=['participant_id', 'trial_number'])\n",
    "# clusters_df_with_n_clusters['cluster_structure'] = np.where(clusters_df_with_n_clusters['cluster_structure'] == 'clustered', 1, 0)\n"
   ]
  },
  {
   "cell_type": "code",
   "execution_count": null,
   "id": "66431ee1-f257-431b-8c3e-e719ea4909a7",
   "metadata": {
    "collapsed": false,
    "jupyter": {
     "outputs_hidden": false
    }
   },
   "outputs": [],
   "source": [
    "\n",
    "# I'm not including 'number_of_points' and 'cluster_structure' here\n",
    "# because the data here aren't aggregrated, so it presents a\n",
    "# misleading relationship with them\n",
    "\n",
    "corr_df = clusters_df_with_n_clusters[Cluster.attributes + ['duration', 'n_clusters']].corr()\n",
    "\n",
    "\n",
    "fig, ax = plt.subplots(figsize=(5.5, 5.5))\n",
    "\n",
    "ax.matshow(corr_df, cmap=matplotlib.colormaps['RdBu'])\n",
    "\n",
    "ax.set_xticks(list(range(len(corr_df.columns))))\n",
    "ax.set_xticklabels(list(map(lambda x: GRAPH_LABELS[x], corr_df.columns)), rotation=90)\n",
    "ax.set_yticks(list(range(len(corr_df.columns))))\n",
    "ax.set_yticklabels(map(lambda x: GRAPH_LABELS[x], list(corr_df.columns)))\n",
    "\n",
    "for i, cat in enumerate(corr_df.columns):\n",
    "    for j, cat2 in enumerate(corr_df.columns):\n",
    "        ax.text(i, j, round(corr_df.iloc[i, j], 2), ha='center', va='center', bbox={'facecolor': 'white', 'boxstyle': 'round', 'alpha': 0.9})\n",
    "\n",
    "fig.savefig('attributes-correlation-matrix.png', dpi=600)"
   ]
  },
  {
   "cell_type": "code",
   "execution_count": null,
   "id": "ff39eb50-4da0-480b-a059-28ced76d397e",
   "metadata": {},
   "outputs": [],
   "source": [
    "\n",
    "# Latex Table Text\n",
    "import scipy.stats\n",
    "\n",
    "corr_df = clusters_df_with_n_clusters[Cluster.attributes + ['duration', 'n_clusters']].corr()\n",
    "p_df = clusters_df_with_n_clusters[Cluster.attributes + ['duration', 'n_clusters']].corr(\n",
    "    method=lambda x, y: scipy.stats.pearsonr(x, y)[1])\n",
    "\n",
    "print(\"Variable & \" + \" & \".join(map(str, range(1, len(corr_df) + 1))) + \" \\\\\\\\\")\n",
    "\n",
    "for idx, (rowvar, row) in enumerate(corr_df.iterrows()):\n",
    "    print(f\"{idx + 1}: \" + GRAPH_LABELS[rowvar].replace(\"%\", \"\\\\%\") + \" & \", end='')\n",
    "    for j in range(len(row)):\n",
    "        p_val = p_df.iloc[idx, j]\n",
    "        pstr = ''\n",
    "        if p_val < 0.001:\n",
    "            pstr = '***'\n",
    "        elif p_val < 0.01:\n",
    "            pstr = '**'\n",
    "        elif p_val < 0.05:\n",
    "            pstr = '*'\n",
    "        # using pstr is pointless, everything is significant, less than 0.001\n",
    "        print(str(round(corr_df.iloc[idx, j], 2)), end='')\n",
    "        if j == len(row) - 1:\n",
    "            pass\n",
    "        else:\n",
    "            print(\" & \", end='')\n",
    "    print(' \\\\\\\\')\n",
    "    \n",
    "# for i, cat in enumerate(corr_df.columns):\n",
    "#     for j, cat2 in enumerate(corr_df.columns):\n",
    "#         ax.text(i, j, round(corr_df.iloc[i, j], 2), ha='center', va='center', bbox={'facecolor': 'white', 'boxstyle': 'round', 'alpha': 0.9})\n",
    "\n"
   ]
  },
  {
   "cell_type": "code",
   "execution_count": null,
   "id": "f32d1388-f4a5-4d66-9375-3442bdabb013",
   "metadata": {},
   "outputs": [],
   "source": [
    "p_df > 0.001"
   ]
  },
  {
   "cell_type": "markdown",
   "id": "747e19d6-e2ec-40aa-ac18-0f490d0a2e0d",
   "metadata": {
    "collapsed": false,
    "jupyter": {
     "outputs_hidden": false
    }
   },
   "source": [
    "Now let's look at how the variables vary by number of points and cluster structure."
   ]
  },
  {
   "cell_type": "code",
   "execution_count": null,
   "id": "ab9499b4-acda-47fd-a957-ed10dfd27b4a",
   "metadata": {
    "collapsed": false,
    "jupyter": {
     "outputs_hidden": false
    }
   },
   "outputs": [],
   "source": [
    "\n",
    "def factor__heading(*args):\n",
    "    text = \" \".join([str(x) for x in args])\n",
    "    print(\"\")\n",
    "    print(\"=\" * len(text))\n",
    "    print(text)\n",
    "    print(\"=\" * len(text))\n",
    "    print(\"\")\n",
    "\n",
    "def factor_trends_for__graph_func(x, **kwargs):\n",
    "    ax = plt.gca()\n",
    "    ax.hist(x)\n",
    "\n",
    "def factor_trends_for(data, attr, filter_proc=None, axs=None, stats=True):\n",
    "\n",
    "    data = filter_proc(data) if filter_proc else data\n",
    "    # fig = plt.figure()\n",
    "    # g = sns.FacetGrid(col=\"number_of_points\", row=\"cluster_structure\", data=data, margin_titles=True)\n",
    "    # g.map(factor_trends_for__graph_func, attr)\n",
    "    # fig.suptitle(f\"{attr} trends\")\n",
    "\n",
    "    if stats:\n",
    "\n",
    "        factor__heading(f\"Median {attr} (without aggregation by participant):\", data[attr].median())\n",
    "        factor__heading(f\"Median {attr} (after aggregation by participant):\", data.groupby(['participant_id']).agg({attr: 'median'})[attr].median())\n",
    "        factor__heading(f\"Mean {attr} (without aggregation by participant):\", data[attr].mean())\n",
    "        factor__heading(f\"Mean {attr} (after aggregation by participant):\", data.groupby(['participant_id']).agg({attr: 'mean'})[attr].mean())\n",
    "        \n",
    "        if attr in ('area', 'density'):\n",
    "            factor__heading(f\"Median {attr} (numerosity < 3 removal, without aggregation by participant):\", data[data[\"numerosity\"] > 2][attr].median())\n",
    "            factor__heading(f\"Median {attr} (numerosity < 3 removal, after aggregation by participant):\", data[data[\"numerosity\"] > 2].groupby(['participant_id', 'cluster_structure', 'number_of_points']).agg({attr: 'median'})[attr].median())\n",
    "        \n",
    "\n",
    "    analysis_df = (data.groupby(['participant_id', 'cluster_structure', 'number_of_points'])\n",
    "                   .agg({attr: 'median', 'numerosity': 'median'}).reset_index())\n",
    "\n",
    "    # Print out the descriptive for each cell\n",
    "    \n",
    "    if stats:\n",
    "        factor__heading(\"Description:\")\n",
    "        print(data.groupby(['cluster_structure', 'number_of_points']).agg({attr: ['mean', 'std', 'median']}))\n",
    "\n",
    "    formula = f\"{attr} ~ 1 + number_of_points * cluster_structure\"\n",
    "    # if attr == \"numerosity\":\n",
    "    #     formula = f\"{attr} ~ 1 + number_of_points + cluster_structure\"\n",
    "\n",
    "    # formula = f\"{attr} ~ 1 + numerosity\"\n",
    "\n",
    "    if stats:\n",
    "        model = smf.ols(formula, data=analysis_df)\n",
    "        result = model.fit()\n",
    "        factor__heading(\"Model summary\")\n",
    "        print(result.summary())\n",
    "        factor__heading(\"Partial eta squared\")\n",
    "        print(get_partial_eta_squared(result))\n",
    "\n",
    "    \n",
    "\n",
    "    analysis_df['cluster_structure'] = np.where(analysis_df['cluster_structure'] == \"clustered\", \"Clustered\", \"Dispersed\")\n",
    "\n",
    "    tmp = analysis_df.groupby(['cluster_structure', 'number_of_points']).agg({attr: 'mean'}).reset_index()\n",
    "    max_val = np.max(tmp[attr]) * 1.2\n",
    "\n",
    "    if axs is None or axs is False:\n",
    "      fig, axs = plt.subplots(1, 2, figsize=(5, 2))\n",
    "\n",
    "\n",
    "    ax = axs[0]\n",
    "    sns.barplot(x=\"number_of_points\", y=attr, data=analysis_df, color=\"tab:red\", ax=ax)\n",
    "    ax.set_xlabel(GRAPH_LABELS[\"number_of_points\"])\n",
    "    ax.set_ylabel(GRAPH_LABELS[attr])\n",
    "    ax.set_ylim([0, max_val])\n",
    "\n",
    "    # plt.savefig(f\"descriptive-number-of-points-{attr}.png\", dpi=300)\n",
    "\n",
    "    ax = axs[1]\n",
    "    sns.barplot(x=\"cluster_structure\", y=attr, data=analysis_df, ax=ax)\n",
    "    ax.set_xlabel(GRAPH_LABELS[\"cluster_structure\"])\n",
    "    ax.set_ylabel(GRAPH_LABELS[attr])\n",
    "    ax.set_ylim([0, max_val])\n",
    "    \n",
    "    # plt.savefig(f\"descriptive-cluster-structure-{attr}.png\", dpi=300)\n",
    "    \n",
    "    # for ax in axs:\n",
    "    #     ax.label_outer()\n",
    "\n",
    "    # fig.tight_layout()\n",
    "    # plt.savefig(f\"descriptive-number-of-points-cluster-structure-{attr}.png\", dpi=600)\n",
    "    \n",
    "    \n",
    "\n",
    "    # plt.figure(figsize=(2.5, 2))\n",
    "    # sns.scatterplot(x=\"numerosity\", y=attr, data=analysis_df)\n",
    "    # ax = plt.gca()\n",
    "    # ax.set_xlabel(GRAPH_LABELS[\"numerosity\"])\n",
    "    # ax.set_ylabel(GRAPH_LABELS[attr])\n",
    "    # plt.savefig(f\"descriptive-numerosity-{attr}.png\", dpi=600)\n",
    "    \n",
    "    \n",
    "\n",
    "    \n",
    "\n",
    "    # model = smf.mixedlm(formula, groups=\"participant_id\", re_formula=\"~ number_of_points + cluster_structure\", data=analysis_df)\n",
    "    # result = model.fit(method=['lbfgs'])\n",
    "    # print(result.summary())\n",
    "\n",
    "    \n",
    "    \n",
    "\n",
    "Cluster.attributes"
   ]
  },
  {
   "cell_type": "code",
   "execution_count": null,
   "id": "247e7cb1-0ebe-4255-b419-03273374ce18",
   "metadata": {
    "collapsed": false,
    "jupyter": {
     "outputs_hidden": false
    }
   },
   "outputs": [],
   "source": [
    "fig, all_axs = plt.subplots(nrows=2, ncols=len(Cluster.attributes), figsize=(15, 5), sharey=False)\n",
    "\n",
    "for idx, attribute in enumerate(Cluster.attributes):\n",
    "    axs = all_axs[:, idx]\n",
    "    df = clusters_df\n",
    "    if attribute in ('area', 'density', 'linearity'):\n",
    "        df = df[df['numerosity'] > 2]\n",
    "    factor_trends_for(clusters_df, attribute, axs=axs, stats=False)\n",
    "\n",
    "fig.tight_layout()\n",
    "\n",
    "fig.savefig('all-attribute-trends.png', dpi=600)\n",
    "    \n"
   ]
  },
  {
   "cell_type": "markdown",
   "id": "394b0546-12a9-4b90-bd02-b1f7973e54bf",
   "metadata": {
    "collapsed": false,
    "jupyter": {
     "outputs_hidden": false
    }
   },
   "source": [
    "## Factor trends"
   ]
  },
  {
   "cell_type": "markdown",
   "id": "4ab71ed3-12fb-4613-abeb-5a31bcec9687",
   "metadata": {
    "collapsed": false,
    "jupyter": {
     "outputs_hidden": false
    }
   },
   "source": [
    "### Numerosity"
   ]
  },
  {
   "cell_type": "code",
   "execution_count": null,
   "id": "6d2e460d-493a-4f05-ab57-64a9873f2cdf",
   "metadata": {
    "collapsed": false,
    "jupyter": {
     "outputs_hidden": false
    }
   },
   "outputs": [],
   "source": [
    "len(clusters_df[clusters_df['numerosity'] == 1]) / len(clusters_df['numerosity'])"
   ]
  },
  {
   "cell_type": "code",
   "execution_count": null,
   "id": "c4df0511-02aa-45cd-a771-da1f8a71a24e",
   "metadata": {
    "collapsed": false,
    "jupyter": {
     "outputs_hidden": false
    }
   },
   "outputs": [],
   "source": [
    "len(clusters_df[clusters_df['numerosity'] == 2]) / len(clusters_df['numerosity'])"
   ]
  },
  {
   "cell_type": "code",
   "execution_count": null,
   "id": "58299512-3e79-4248-8741-f72ebffb777a",
   "metadata": {
    "collapsed": false,
    "jupyter": {
     "outputs_hidden": false
    }
   },
   "outputs": [],
   "source": [
    "len(clusters_df[clusters_df['numerosity'] == 3]) / len(clusters_df['numerosity'])"
   ]
  },
  {
   "cell_type": "code",
   "execution_count": null,
   "id": "4854957d-f652-4154-b4c1-af97d4b2cacf",
   "metadata": {
    "collapsed": false,
    "jupyter": {
     "outputs_hidden": false
    }
   },
   "outputs": [],
   "source": [
    "len(clusters_df[clusters_df['numerosity'] <= 3]) / len(clusters_df['numerosity'])"
   ]
  },
  {
   "cell_type": "code",
   "execution_count": null,
   "id": "39e65b68-9580-4be9-a73b-99e7c5f61bea",
   "metadata": {
    "collapsed": false,
    "jupyter": {
     "outputs_hidden": false
    }
   },
   "outputs": [],
   "source": [
    "len(clusters_df[clusters_df['numerosity'] <= 2]) / len(clusters_df['numerosity'])"
   ]
  },
  {
   "cell_type": "code",
   "execution_count": null,
   "id": "2d5e4860-f8ef-4bc3-88a2-d00ea0c70008",
   "metadata": {
    "collapsed": false,
    "jupyter": {
     "outputs_hidden": false
    }
   },
   "outputs": [],
   "source": [
    "factor_trends_for(clusters_df, \"numerosity\")"
   ]
  },
  {
   "cell_type": "markdown",
   "id": "9ea5a373-2006-4178-abec-f7cd5b4770de",
   "metadata": {
    "collapsed": false,
    "jupyter": {
     "outputs_hidden": false
    }
   },
   "source": [
    "\n",
    "### Contribution"
   ]
  },
  {
   "cell_type": "code",
   "execution_count": null,
   "id": "49a51192-957f-4675-97ee-f92f2547986f",
   "metadata": {
    "collapsed": false,
    "jupyter": {
     "outputs_hidden": false
    }
   },
   "outputs": [],
   "source": [
    "factor_trends_for(clusters_df, \"contribution\")"
   ]
  },
  {
   "cell_type": "markdown",
   "id": "74e2da9c-adf4-4ec2-89e7-c01281392d81",
   "metadata": {
    "collapsed": false,
    "jupyter": {
     "outputs_hidden": false
    }
   },
   "source": [
    "## Area"
   ]
  },
  {
   "cell_type": "code",
   "execution_count": null,
   "id": "bad61361-e1cb-49e0-8266-0ce879b07739",
   "metadata": {
    "collapsed": false,
    "jupyter": {
     "outputs_hidden": false
    }
   },
   "outputs": [],
   "source": [
    "factor_trends_for(clusters_df, \"area\")"
   ]
  },
  {
   "cell_type": "markdown",
   "id": "e90ec27a-6d69-412a-ae8a-57dff2937647",
   "metadata": {
    "collapsed": false,
    "jupyter": {
     "outputs_hidden": false
    }
   },
   "source": [
    "### Density"
   ]
  },
  {
   "cell_type": "code",
   "execution_count": null,
   "id": "1af84761-b0ef-4576-90e3-c3b7f3ec7633",
   "metadata": {
    "collapsed": false,
    "jupyter": {
     "outputs_hidden": false
    }
   },
   "outputs": [],
   "source": [
    "factor_trends_for(clusters_df, \"density\", lambda x: x[x[\"numerosity\"] > 2])"
   ]
  },
  {
   "cell_type": "markdown",
   "id": "a9674da3-7fa1-4f94-86c2-3635a1c5ff33",
   "metadata": {
    "collapsed": false,
    "jupyter": {
     "outputs_hidden": false
    }
   },
   "source": [
    "### Linearity"
   ]
  },
  {
   "cell_type": "code",
   "execution_count": null,
   "id": "5c4b4cfd-93e7-4ad3-bcac-2ad08e78cf11",
   "metadata": {
    "collapsed": false,
    "jupyter": {
     "outputs_hidden": false
    }
   },
   "outputs": [],
   "source": [
    "factor_trends_for(clusters_df, \"linearity\", lambda x: x[x[\"numerosity\"] > 2])"
   ]
  },
  {
   "cell_type": "markdown",
   "id": "0114165b-0fcc-4cc4-b08d-61768a4ad9c4",
   "metadata": {
    "collapsed": false,
    "jupyter": {
     "outputs_hidden": false
    }
   },
   "source": [
    "### Convex hull point percentage"
   ]
  },
  {
   "cell_type": "code",
   "execution_count": null,
   "id": "df480046-1e2c-4db9-aa9c-58d51d4d05f7",
   "metadata": {
    "collapsed": false,
    "jupyter": {
     "outputs_hidden": false
    }
   },
   "outputs": [],
   "source": [
    "factor_trends_for(clusters_df, \"convex_hull_point_percentage\")"
   ]
  },
  {
   "cell_type": "markdown",
   "id": "f9352606-64a2-477d-9532-1a77324f6baa",
   "metadata": {
    "collapsed": false,
    "jupyter": {
     "outputs_hidden": false
    }
   },
   "source": [
    "### Duration"
   ]
  },
  {
   "cell_type": "code",
   "execution_count": null,
   "id": "e456234e-1d05-4736-8591-dd4b2ee4c321",
   "metadata": {
    "collapsed": false,
    "jupyter": {
     "outputs_hidden": false
    }
   },
   "outputs": [],
   "source": [
    "factor_trends_for(clusters_df, \"duration\")"
   ]
  },
  {
   "cell_type": "code",
   "execution_count": null,
   "id": "06198632",
   "metadata": {
    "collapsed": false,
    "jupyter": {
     "outputs_hidden": false
    }
   },
   "outputs": [],
   "source": [
    "Cluster.attributes"
   ]
  },
  {
   "cell_type": "code",
   "execution_count": null,
   "id": "6f4d4090",
   "metadata": {
    "collapsed": false,
    "jupyter": {
     "outputs_hidden": false
    }
   },
   "outputs": [],
   "source": []
  },
  {
   "cell_type": "markdown",
   "id": "41a744aa-911b-44ff-acbe-49d237b9e129",
   "metadata": {
    "collapsed": false,
    "jupyter": {
     "outputs_hidden": false
    }
   },
   "source": [
    "## Attribute sequence analyses"
   ]
  },
  {
   "cell_type": "code",
   "execution_count": null,
   "id": "563a1385-5bd5-4eca-b92f-67fd02e8d709",
   "metadata": {
    "collapsed": false,
    "jupyter": {
     "outputs_hidden": false
    }
   },
   "outputs": [],
   "source": [
    "def get_per_trial_analysis_df(attribute):\n",
    "    def _sequence_analyze(df):\n",
    "        df = df.sort_values('cluster_index')\n",
    "        \n",
    "        max_index = np.argmax(df[attribute])\n",
    "        min_index = np.argmin(df[attribute])\n",
    "        \n",
    "        max_value = df[attribute].iloc[max_index]\n",
    "        min_value = df[attribute].iloc[min_index]\n",
    "\n",
    "        \n",
    "\n",
    "        max_first = False\n",
    "        max_last = False\n",
    "        min_first = False\n",
    "        min_last = False\n",
    "        mid_first = False\n",
    "        mid_last = False\n",
    "\n",
    "        last_cluster_index = df['cluster_index'].iloc[-1]\n",
    "        first_cluster_index = df['cluster_index'].iloc[0]\n",
    "        \n",
    "        \n",
    "        if max_index == last_cluster_index:\n",
    "            max_last = True\n",
    "\n",
    "        if min_index == last_cluster_index:\n",
    "            min_last = True\n",
    "\n",
    "        if max_index == first_cluster_index:\n",
    "            max_first = True\n",
    "\n",
    "        if min_index == first_cluster_index:\n",
    "            min_first = True\n",
    "\n",
    "        mid_first = not (max_first or min_first)\n",
    "        mid_last = not (max_last or min_last)\n",
    "\n",
    "        # Begin conservation\n",
    "\n",
    "        if np.sum(max_value == df[attribute]) != 1:\n",
    "            if max_first:\n",
    "                mid_first = True\n",
    "                max_first = False\n",
    "            if max_last:\n",
    "                mid_last = True\n",
    "                max_last = False\n",
    "\n",
    "        if np.sum(min_value == df[attribute]) != 1:\n",
    "            if min_first:\n",
    "                mid_first = True\n",
    "                min_first = False\n",
    "            if min_last:\n",
    "                mid_last = True\n",
    "                min_last = False\n",
    "\n",
    "\n",
    "        assert (mid_first or max_first or min_first) == True\n",
    "\n",
    "        ordinality = None\n",
    "\n",
    "        if mid_first:\n",
    "            ordinality = \"mid_first\"\n",
    "        elif max_first:\n",
    "            ordinality = \"max_first\"\n",
    "        elif min_first:\n",
    "            ordinality = \"min_first\"\n",
    "        else:\n",
    "            raise ImplementationError(\"Impossible!\")\n",
    "        \n",
    "        slope, intercept, r, p, se = scipy.stats.linregress(df[\"cluster_index\"], df[attribute])\n",
    "        return pd.Series({'r2': r ** 2,\n",
    "                          'r': r,\n",
    "                          'attribute': attribute,\n",
    "                          \"max_first\": max_first,\n",
    "                          \"min_first\": min_first,\n",
    "                          \"mid_first\": mid_first,\n",
    "                          \"mid_last\": mid_last,\n",
    "                          \"max_last\": max_last,\n",
    "                          \"min_last\": min_last,\n",
    "                          \"attribute_ordinality\": ordinality,\n",
    "                          \"n_clusters\": len(df),\n",
    "                          'base_uuid': df['base_uuid'].iloc[0],\n",
    "                          \"cluster_structure\": df['cluster_structure'].iloc[0],\n",
    "                          \"number_of_points\": df['number_of_points'].iloc[0]})\n",
    "    \n",
    "    \n",
    "    return (clusters_df\n",
    "            .groupby(['participant_id', 'trial_number']).filter(lambda x: len(x) > 2).reset_index()\n",
    "            .groupby(['participant_id', 'trial_number'])\n",
    "            .apply(_sequence_analyze)\n",
    "            .reset_index())\n",
    "\n",
    "def sequence_analyze(attribute, analysis):\n",
    "    # remove perfectly determined items\n",
    "    # analysis[analysis['r2'] != 1]\n",
    "    fig, ax = plt.subplots()\n",
    "    ax.hist(analysis[\"r2\"], bins=30)\n",
    "    ax.set_title(f\"{attribute} R2s\")\n",
    "    ax.axvline(np.median(analysis[\"r2\"]), c='black')\n",
    "    ax.axvline(np.mean(analysis[\"r2\"]), c='red')\n"
   ]
  },
  {
   "cell_type": "code",
   "execution_count": null,
   "id": "b989c934-3383-4e15-b955-e9f9aa2b65b9",
   "metadata": {
    "collapsed": false,
    "jupyter": {
     "outputs_hidden": false
    }
   },
   "outputs": [],
   "source": [
    "trial_analysis_dfs = {}\n",
    "for attribute in Cluster.attributes:\n",
    "    trial_analysis_dfs[attribute] = get_per_trial_analysis_df(attribute)\n",
    "    # tmp = trial_analysis_dfs[attribute]\n",
    "\n",
    "pd.concat([v for v in trial_analysis_dfs.values()]).to_csv(\"build/trial_attribute_analysis_df.csv\")"
   ]
  },
  {
   "cell_type": "code",
   "execution_count": null,
   "id": "bfd38391-12be-47e5-a059-0057f6f5090f",
   "metadata": {
    "collapsed": false,
    "jupyter": {
     "outputs_hidden": false
    }
   },
   "outputs": [],
   "source": [
    "# Number of points and cluster_structure matter for max first\n",
    "\n",
    "def tmp(what, variable):\n",
    "    print(what, variable)\n",
    "    for attr in Cluster.attributes:\n",
    "        tmp = trial_analysis_dfs[attr]\n",
    "        tmp = tmp.groupby(['participant_id', variable]).agg({what: 'mean'}).reset_index()\n",
    "        model = smf.ols(f\"{what} ~ {variable}\", data=tmp).fit()\n",
    "        print(\" \", attr, \"R^2 =\", np.round(model.rsquared, 3), \"p =\", np.round(model.f_pvalue, 2))\n",
    "    print('-----')\n",
    "\n",
    "tmp('max_first', 'number_of_points')\n",
    "tmp('min_first', 'number_of_points')\n",
    "\n",
    "tmp('max_last', 'number_of_points')\n",
    "tmp('min_last', 'number_of_points')\n",
    "\n",
    "tmp('max_first', 'cluster_structure')\n",
    "tmp('min_first', 'cluster_structure')\n",
    "\n",
    "tmp('max_last', 'cluster_structure')\n",
    "tmp('min_last', 'cluster_structure')\n",
    "\n"
   ]
  },
  {
   "cell_type": "markdown",
   "id": "64e03e40-fbd6-467e-ad1a-947861733d5e",
   "metadata": {
    "collapsed": false,
    "jupyter": {
     "outputs_hidden": false
    }
   },
   "source": [
    "## Individual differences in linearity across participants"
   ]
  },
  {
   "cell_type": "code",
   "execution_count": null,
   "id": "76eeb653-a495-4d51-a9b4-46caeba806a8",
   "metadata": {
    "collapsed": false,
    "jupyter": {
     "outputs_hidden": false
    }
   },
   "outputs": [],
   "source": [
    "fig, axs = plt.subplots(ncols=len(trial_analysis_dfs), figsize=(13, 2), sharey=True, sharex=True)\n",
    "\n",
    "for idx, (key, value) in enumerate(trial_analysis_dfs.items()):\n",
    "    ax = axs[idx]\n",
    "    tmp1 = value[value['n_clusters'] > 2]\n",
    "    tmp = tmp1.groupby(['participant_id']).agg({'r': 'mean'})\n",
    "    # print('Median:', tmp['r2'].median())\n",
    "    sns.histplot(x='r', data=tmp, ax=ax, color='tab:red')\n",
    "    ax.set_xlabel(f\"{GRAPH_LABELS[key]} r\")\n",
    "    ax.set_ylabel('# of participants')\n",
    "    # ax.set_ylim(0, 18)\n",
    "    # ax.set_xlim(-1, 1)\n",
    "\n",
    "fig.tight_layout()\n",
    "fig.savefig('attribute_sequentiality_r.png', dpi=600)"
   ]
  },
  {
   "cell_type": "code",
   "execution_count": null,
   "id": "944de42d-5821-4394-8230-8ca7f2dc9a96",
   "metadata": {
    "collapsed": false,
    "jupyter": {
     "outputs_hidden": false
    }
   },
   "outputs": [],
   "source": [
    "fig, axs = plt.subplots(ncols=5, figsize=(13, 2), sharey=True, sharex=True)\n",
    "\n",
    "for idx, (attribute, df) in enumerate(trial_analysis_dfs.items()):\n",
    "    df = df[df['n_clusters'] > 2]\n",
    "    ax = axs[idx]\n",
    "    ax.hist(df['r2'], color='tab:red')\n",
    "    \n",
    "    ax.set_xlabel(f\"{GRAPH_LABELS[attribute]} $R^2$s\")\n",
    "\n",
    "    ax.axvline(np.median(df['r2']), color='black')\n",
    "\n",
    "    print(attribute, np.median(df['r2']))\n",
    "    # sequence_analyze(attribute, df)\n",
    "\n",
    "axs[0].set_ylabel('Count')\n",
    "\n",
    "fig.tight_layout()\n",
    "\n",
    "fig.savefig('attribute_sequentiality.png', dpi=600)\n",
    "\n"
   ]
  },
  {
   "cell_type": "code",
   "execution_count": null,
   "id": "f1a55c17-d405-44ed-ad8f-2892b2dc28e3",
   "metadata": {
    "collapsed": false,
    "jupyter": {
     "outputs_hidden": false
    }
   },
   "outputs": [],
   "source": [
    "def expected_and_observed_frequencies(df):\n",
    "    number_of_trials = len(df)\n",
    "    number_of_possible_mid_clusters = (df['n_clusters'] - 2).sum()\n",
    "    expected_probabilities = [number_of_trials, number_of_possible_mid_clusters, number_of_trials] / np.sum([number_of_trials, number_of_possible_mid_clusters, number_of_trials])\n",
    "    expected_frequencies = expected_probabilities * number_of_trials\n",
    "    observed_frequencies = [len(df['max_first'][df['max_first'] == True]), len(df['mid_first'][df['mid_first'] == True]), len(df['min_first'][df['min_first'] == True])]\n",
    "    result = scipy.stats.chisquare(observed_frequencies, expected_frequencies)\n",
    "    return result\n",
    "\n",
    "\n",
    "def attribute_first_chi_ps(df):\n",
    "    chitest = expected_and_observed_frequencies(df)\n",
    "    return pd.Series({'chisquared': chitest.statistic, \"pvalue\": chitest.pvalue, \"attribute\": df['attribute'].iloc[0]})\n",
    "    \n",
    "for attribute, df in trial_analysis_dfs.items():\n",
    "    results = df.groupby(\"participant_id\").apply(attribute_first_chi_ps)\n",
    "    ppercentage = len(results[results['pvalue'] < 0.05]) / len(results)\n",
    "    \n",
    "    print(f\"{attribute}: % of p < 0.05 = {ppercentage}\")\n"
   ]
  },
  {
   "cell_type": "code",
   "execution_count": null,
   "id": "ccb66e9e-a429-4fa0-a955-2396ee5f7c1f",
   "metadata": {
    "collapsed": false,
    "jupyter": {
     "outputs_hidden": false
    }
   },
   "outputs": [],
   "source": [
    "\n",
    "for attribute in Cluster.attributes:\n",
    "\n",
    "    tmp = trial_analysis_dfs[attribute]\n",
    "    number_of_possible_mid_clusters = (tmp['n_clusters'] - 2).sum()\n",
    "    expected_probabilities = [len(tmp), number_of_possible_mid_clusters, len(tmp)] / np.sum([len(tmp), number_of_possible_mid_clusters, len(tmp)])\n",
    "    expected_frequencies = expected_probabilities * len(tmp)\n",
    "    observed_frequencies = [len(tmp['max_first'][tmp['max_first'] == True]), len(tmp['mid_first'][tmp['mid_first'] == True]), len(tmp['min_first'][tmp['min_first'] == True])]\n",
    "    result = scipy.stats.chisquare(observed_frequencies, expected_frequencies)\n",
    "    print(f\"{attribute}: X^2 = {result.statistic}, p = {np.round(result.pvalue, 3)}\\n\\tObserved: {observed_frequencies}, Expected={np.round(expected_frequencies, 2)}, Total: {len(tmp)}\")\n",
    "\n"
   ]
  },
  {
   "cell_type": "code",
   "execution_count": null,
   "id": "ae7a15d2-5d89-4b54-bdd2-1974751d5e04",
   "metadata": {
    "collapsed": false,
    "jupyter": {
     "outputs_hidden": false
    }
   },
   "outputs": [],
   "source": [
    "def first_last_analyze(attribute, analysis, ax):\n",
    "    # things_to_plot = ['max_first', 'max_last', 'min_first', 'min_last', 'mid_first', 'mid_last']\n",
    "    labels = {'max_first': 'Maximum', 'min_first': 'Mininum', 'mid_first': \"Other\"}\n",
    "    things_to_plot = ['max_first', 'min_first', 'mid_first']\n",
    "    bar_data = dict()\n",
    "    for thing in things_to_plot:\n",
    "        bar_data[thing] = len(analysis[analysis[thing] == True]) / len(analysis)\n",
    "\n",
    "    print(bar_data)\n",
    "\n",
    "    x = np.arange(len(bar_data))\n",
    "    # ax.set_ylim(0, 1)\n",
    "    ax.bar(x, bar_data.values(), color='tab:red')\n",
    "    ax.set_title(f\"{GRAPH_LABELS[attribute]}\")\n",
    "    ax.set_xticks(x, [labels[k] for k in bar_data.keys()])\n",
    "\n",
    "\n",
    "fig, axs = plt.subplots(ncols=len(Cluster.attributes), figsize=(12, 2), sharey=True)\n",
    "for idx, (attribute, df) in enumerate(trial_analysis_dfs.items()):\n",
    "    first_last_analyze(attribute, df[df['n_clusters'] > 2], axs[idx])\n",
    "\n",
    "fig.tight_layout()\n",
    "fig.savefig('max_min_first.png', dpi=600)\n",
    "    "
   ]
  },
  {
   "cell_type": "code",
   "execution_count": null,
   "id": "f01ba69a-0e53-4471-99e8-44f10a3599f7",
   "metadata": {
    "collapsed": false,
    "jupyter": {
     "outputs_hidden": false
    }
   },
   "outputs": [],
   "source": [
    "\n",
    "\n",
    "tmp = {}\n",
    "\n",
    "METRICS =  ['max_first', 'max_last', 'min_first', 'min_last', 'mid_first', 'mid_last', 'r2']\n",
    "\n",
    "\n",
    "for metric in METRICS:\n",
    "    for idx, (attribute, analysis) in enumerate(trial_analysis_dfs.items()):\n",
    "        analysis = analysis.sort_values(['participant_id', 'trial_number'])\n",
    "        attribute_data = analysis[metric]\n",
    "        col_index = (attribute, metric)\n",
    "        tmp[col_index] = attribute_data\n",
    "        \n",
    "\n",
    "one_analysis = next(iter(trial_analysis_dfs.values()))\n",
    "one_analysis = one_analysis.sort_values(by=['participant_id', 'trial_number'])\n",
    "\n",
    "\n",
    "        \n",
    "all_metric_info_df = pd.DataFrame(tmp)\n",
    "all_metric_info_df['participant_id'] = one_analysis['participant_id']\n",
    "all_metric_info_df['trial_number'] = one_analysis['trial_number']\n",
    "\n",
    "\n",
    "\n"
   ]
  },
  {
   "cell_type": "code",
   "execution_count": null,
   "id": "71e35c49-edd1-49b9-a3a0-fe32c51a0d1d",
   "metadata": {
    "collapsed": false,
    "jupyter": {
     "outputs_hidden": false
    }
   },
   "outputs": [],
   "source": [
    "agg_dict = {}\n",
    "\n",
    "for attribute in Cluster.attributes:\n",
    "    for metric in METRICS:\n",
    "        if \"mid\" not in metric:\n",
    "            agg_dict[(attribute, metric)] = 'mean'\n",
    "    \n",
    "all_metric_means_df = all_metric_info_df.groupby(['participant_id']).agg(agg_dict)\n",
    "\n",
    "all_metric_means_df.columns\n"
   ]
  },
  {
   "cell_type": "code",
   "execution_count": null,
   "id": "20641d84-91c6-4db2-bfb0-562ea15f0d1c",
   "metadata": {
    "collapsed": false,
    "jupyter": {
     "outputs_hidden": false
    }
   },
   "outputs": [],
   "source": [
    "CLUSTER_SCORES = ['silhouette_score',\n",
    "                  'calinski_harabasz_score',\n",
    "                  'davies_bouldin_score']\n",
    "\n",
    "\n",
    "CLUSTER_SCORES_LABELS = {'silhouette_score': \"Silhouette coefficient\",\n",
    "                         'calinski_harabasz_score': \"Calinski-Harabasz index\",\n",
    "                         'davies_bouldin_score': 'Davies-Bouldin index'}\n",
    "\n",
    "\n",
    "agg_dict = {s: 'first' for s in CLUSTER_SCORES}\n",
    "agg_dict[\"cluster_index\"] = 'count'\n",
    "\n",
    "trials_df = clusters_df.groupby(['participant_id', 'trial_number', 'number_of_points', 'cluster_structure']).agg(agg_dict).rename(columns={'cluster_index': 'n_clusters'}).reset_index()\n",
    "tmp = all_metric_info_df.copy()\n",
    "tmp.columns = ['_'.join(filter(lambda x: len(x) > 0, col)).strip() for col in tmp.columns.values]\n",
    "\n",
    "trials_df = trials_df.merge(tmp, on=['participant_id', 'trial_number'])\n",
    "\n",
    "trials_df"
   ]
  },
  {
   "cell_type": "code",
   "execution_count": null,
   "id": "4da512df-0cde-47f3-87c9-4147ce74f1b9",
   "metadata": {
    "collapsed": false,
    "jupyter": {
     "outputs_hidden": false
    }
   },
   "outputs": [],
   "source": [
    "tmp = trials_df.groupby(['number_of_points', 'cluster_structure'])[CLUSTER_SCORES].agg(['mean']).reset_index()\n",
    "tmp_long = pd.melt(tmp, ['number_of_points', 'cluster_structure'], var_name='metric', value_name='score')\n",
    "tmp_long['metric'] = tmp_long['metric'].map(CLUSTER_SCORES_LABELS)\n",
    "tmp_long['cluster_structure'] = tmp_long['cluster_structure'].map(GRAPH_LABELS)\n",
    "\n",
    "g = sns.FacetGrid(col='metric', hue='cluster_structure', data=tmp_long, sharey=False, margin_titles=True, despine=False)\n",
    "g.set_titles(row_template=\"Metric = {row_name}\", col_template=\"{col_name}\")\n",
    "g.map(sns.lineplot, \"number_of_points\", 'score')\n",
    "g.set_ylabels('Score')\n",
    "g.set_xlabels('Number of Points')\n",
    "g.add_legend(title='Cluster Structure')\n",
    "g.tight_layout()\n",
    "g.figure.savefig('cluster_metrics.png', dpi=600)"
   ]
  },
  {
   "cell_type": "code",
   "execution_count": null,
   "id": "33499af8-bfba-4566-98ce-c2c87aa9d9ac",
   "metadata": {
    "collapsed": false,
    "jupyter": {
     "outputs_hidden": false
    }
   },
   "outputs": [],
   "source": [
    "print(trials_df[CLUSTER_SCORES].corr().to_string())"
   ]
  },
  {
   "cell_type": "code",
   "execution_count": null,
   "id": "ccff36fa-e40c-418f-854b-94aa7bc1149b",
   "metadata": {
    "collapsed": false,
    "jupyter": {
     "outputs_hidden": false
    }
   },
   "outputs": [],
   "source": [
    "for cluster_score in CLUSTER_SCORES:\n",
    "    df = trials_df.groupby('participant_id').agg({cluster_score: 'median', 'n_clusters': 'median'}).reset_index()\n",
    "    fig, ax = plt.subplots()\n",
    "    ax.hist(df[cluster_score], bins=20)\n",
    "    #ax.set_title(f\"Individual differences: {cluster_score}\")\n",
    "    #ax.set_xlabel(\"Participant\")\n",
    "    #ax.set_ylabel(cluster_score)\n",
    "    fig, ax = plt.subplots()\n",
    "    ax.scatter(df['n_clusters'], df[cluster_score])\n",
    "    ax.set_title(f\"Median number of clusters vs {cluster_score}\")\n",
    "    ax.set_xlabel('n_clusters')\n",
    "    ax.set_ylabel(cluster_score)"
   ]
  },
  {
   "cell_type": "code",
   "execution_count": null,
   "id": "d615c080-fbc4-44ab-861b-037f75d7a21a",
   "metadata": {
    "collapsed": false,
    "jupyter": {
     "outputs_hidden": false
    }
   },
   "outputs": [],
   "source": [
    "for cluster_score in CLUSTER_SCORES:\n",
    "    fig, ax = plt.subplots()\n",
    "    # remove extremities\n",
    "    \n",
    "    df = trials_df.dropna()\n",
    "    df = df[df[cluster_score] < np.percentile(df[cluster_score], 75)]\n",
    "\n",
    "    result = scipy.stats.linregress(df['n_clusters'], df[cluster_score])\n",
    "    r2 = result.rvalue ** 2\n",
    "    \n",
    "    ax.scatter(df['n_clusters'], df[cluster_score])\n",
    "    ax.set_title(f\"# clusters vs {cluster_score}, R2 = {round(r2, 3)}\")\n",
    "    ax.set_xlabel(\"n_clusters\")\n",
    "    ax.set_ylabel(cluster_score)"
   ]
  },
  {
   "cell_type": "code",
   "execution_count": null,
   "id": "f4526321-b4b3-4cd0-8b84-f428301c3a71",
   "metadata": {
    "collapsed": false,
    "jupyter": {
     "outputs_hidden": false
    }
   },
   "outputs": [],
   "source": [
    "for attribute in Cluster.attributes:\n",
    "    for metric in METRICS:\n",
    "        col_name = attribute + \"_\" + metric\n",
    "        for cluster_score in CLUSTER_SCORES:\n",
    "            col = trials_df[col_name]\n",
    "            score_vector = trials_df[cluster_score]\n",
    "            if col.dtype == 'bool':\n",
    "                sns.kdeplot(data=trials_df, x=cluster_score)\n",
    "                # true_count = len(col[col == True])\n",
    "                # false_count = len(col[col == False])\n",
    "                # ax.bar()\n",
    "                pass\n",
    "            else:\n",
    "                fig, ax = plt.subplots()\n",
    "                ax.scatter(col, score_vector)\n",
    "                ax.set_title(f\"For {attribute}: scatterplot of {cluster_score} vs {metric}\")\n"
   ]
  },
  {
   "cell_type": "code",
   "execution_count": null,
   "id": "0cfd527d-8aeb-421b-b28b-c1594f72faf9",
   "metadata": {
    "collapsed": false,
    "jupyter": {
     "outputs_hidden": false
    }
   },
   "outputs": [],
   "source": [
    "bins = 30\n",
    "cluster_score = 'davies_bouldin_score'\n",
    "\n",
    "for attribute in Cluster.attributes:\n",
    "    tmp = trials_df.dropna().sort_values([cluster_score])\n",
    "    fig, ax = plt.subplots()\n",
    "    for metric in METRICS:\n",
    "        col_name = attribute + \"_\" + metric\n",
    "        df = tmp.copy()\n",
    "        df[cluster_score] = pd.qcut(df[cluster_score], bins, precision=2)\n",
    "        df = df.groupby(cluster_score).agg({col_name: 'mean'}).reset_index()\n",
    "\n",
    "\n",
    "        x = np.arange(len(df[cluster_score]))\n",
    "        ax.plot(x, df[col_name], label=metric)\n",
    "\n",
    "        ax.set_xticks(x, np.round(list(map(lambda x: x.mid, df[cluster_score])), 2))\n",
    "        ax.xaxis.set_major_locator(plt.MaxNLocator(bins))\n",
    "        ax.set_title(f\"{attribute} metric percentages for {cluster_score}\")\n",
    "        fig.tight_layout()\n",
    "        fig.legend()\n",
    "    \n"
   ]
  },
  {
   "cell_type": "code",
   "execution_count": null,
   "id": "bc58451d-2e9d-44f0-b40a-7bd920e3c194",
   "metadata": {
    "collapsed": false,
    "jupyter": {
     "outputs_hidden": false
    }
   },
   "outputs": [],
   "source": [
    "import sklearn.ensemble\n",
    "\n",
    "df = trials_df.dropna()\n",
    "\n",
    "X = df.iloc[:, 8:].to_numpy().astype('float32')\n",
    "y = df[\"davies_bouldin_score\"]\n",
    "\n",
    "model = sklearn.ensemble.RandomForestRegressor()\n",
    "model.fit(X, y)\n",
    "print(model.score(X, y))\n",
    "\n",
    "imps_df = pd.DataFrame(list(zip(df.columns[8:], model.feature_importances_)), columns=['metric', 'importance'])\n",
    "imps_df.sort_values(['importance'], ascending=False)\n",
    "    \n"
   ]
  },
  {
   "cell_type": "code",
   "execution_count": null,
   "id": "261b632d-00d9-490e-bf71-d1a1b4dfa265",
   "metadata": {
    "collapsed": false,
    "jupyter": {
     "outputs_hidden": false
    }
   },
   "outputs": [],
   "source": [
    "from sklearn.model_selection import cross_val_score\n",
    "scores = cross_val_score(model, X, y, cv=5)\n",
    "scores"
   ]
  },
  {
   "cell_type": "code",
   "execution_count": null,
   "id": "c75f9f52-1047-4c83-8069-526f78ab6965",
   "metadata": {
    "collapsed": false,
    "jupyter": {
     "outputs_hidden": false
    }
   },
   "outputs": [],
   "source": [
    "score = 'davies_bouldin_score'\n",
    "X = participant_factors_df.iloc[:,1:].to_numpy()\n",
    "y = trials_df.dropna().groupby(['participant_id']).agg({score: 'median'})[score]\n",
    "model = sm.OLS(y, X)\n",
    "\n",
    "result = model.fit()\n",
    "\n",
    "print(result.summary())"
   ]
  },
  {
   "cell_type": "code",
   "execution_count": null,
   "id": "f6d44f1d-d388-4358-bc6c-18bedb5f606e",
   "metadata": {
    "collapsed": false,
    "jupyter": {
     "outputs_hidden": false
    }
   },
   "outputs": [],
   "source": [
    "model = smf.ols(data=trials_df, formula='n_clusters ~ 1 + number_of_points + cluster_structure')\n",
    "result = model.fit()\n",
    "result.summary()"
   ]
  },
  {
   "cell_type": "code",
   "execution_count": null,
   "id": "fe8c79ce-2ba5-40bd-b5dc-8428e57b0e28",
   "metadata": {
    "collapsed": false,
    "jupyter": {
     "outputs_hidden": false
    }
   },
   "outputs": [],
   "source": [
    "\n",
    "model = smf.mixedlm(data=trials_df, formula='n_clusters ~ 1 + number_of_points + cluster_structure', groups=\"participant_id\", re_formula=\"~ cluster_structure\")\n",
    "result = model.fit()\n",
    "result.summary()\n"
   ]
  },
  {
   "cell_type": "code",
   "execution_count": null,
   "id": "efc65705-059b-497f-8bcb-da463c3fc854",
   "metadata": {
    "collapsed": false,
    "jupyter": {
     "outputs_hidden": false
    }
   },
   "outputs": [],
   "source": [
    "df = trials_df.dropna()\n",
    "\n",
    "records = []\n",
    "for col in df.columns[8:]:\n",
    "    result = scipy.stats.pearsonr(df['davies_bouldin_score'], df[col])\n",
    "    records.append(dict(measure=col, r2=np.round(result.statistic ** 2, 3), p=np.round(result.pvalue, 2)))\n",
    "\n",
    "pd.DataFrame.from_records(records).sort_values('r2')"
   ]
  },
  {
   "cell_type": "code",
   "execution_count": null,
   "id": "e9043bd3-e1c2-4141-a960-927ab037733f",
   "metadata": {
    "collapsed": false,
    "jupyter": {
     "outputs_hidden": false
    }
   },
   "outputs": [],
   "source": [
    "df = trials_df.dropna()\n",
    "metric = 'davies_bouldin_score'\n",
    "tmp = df.groupby('participant_id').agg({metric: 'median', 'n_clusters': 'median'}).sort_values(metric)\n",
    "scipy.stats.pearsonr(tmp[metric], tmp['n_clusters']).statistic ** 2"
   ]
  },
  {
   "cell_type": "code",
   "execution_count": null,
   "id": "0fd5edc5-d0b1-49ef-81bf-d20d72e7dc48",
   "metadata": {
    "collapsed": false,
    "jupyter": {
     "outputs_hidden": false
    }
   },
   "outputs": [],
   "source": [
    "tmp.sort_values('n_clusters', ascending=False)"
   ]
  },
  {
   "cell_type": "code",
   "execution_count": null,
   "id": "89c0d33f",
   "metadata": {
    "collapsed": false,
    "jupyter": {
     "outputs_hidden": false
    }
   },
   "outputs": [],
   "source": [
    "tmp = trials_df.groupby(['participant_id', 'number_of_points', 'cluster_structure']).agg({'n_clusters': 'median', 'silhouette_score': 'median'}).reset_index()\n",
    "smf.ols(\"silhouette_score ~ 1 + number_of_points + cluster_structure\", data=tmp).fit().summary()"
   ]
  },
  {
   "cell_type": "code",
   "execution_count": null,
   "id": "fcf6eb7a",
   "metadata": {
    "collapsed": false,
    "jupyter": {
     "outputs_hidden": false
    }
   },
   "outputs": [],
   "source": []
  },
  {
   "cell_type": "code",
   "execution_count": null,
   "id": "28035045-85dc-462f-b38f-7527f794fa59",
   "metadata": {
    "collapsed": false,
    "jupyter": {
     "outputs_hidden": false
    }
   },
   "outputs": [],
   "source": []
  },
  {
   "cell_type": "code",
   "execution_count": null,
   "id": "284e9e7e-b273-42e8-b1ea-3533de4457f9",
   "metadata": {
    "collapsed": false,
    "jupyter": {
     "outputs_hidden": false
    }
   },
   "outputs": [],
   "source": []
  },
  {
   "cell_type": "code",
   "execution_count": null,
   "id": "2d0c633d-c91f-4d22-ae56-393225ca6b30",
   "metadata": {
    "collapsed": false,
    "jupyter": {
     "outputs_hidden": false
    }
   },
   "outputs": [],
   "source": []
  },
  {
   "cell_type": "code",
   "execution_count": null,
   "id": "90a62690-f71f-4915-b4f2-2beb6cb5dac4",
   "metadata": {
    "collapsed": false,
    "jupyter": {
     "outputs_hidden": false
    }
   },
   "outputs": [],
   "source": []
  },
  {
   "cell_type": "code",
   "execution_count": null,
   "id": "9aa168a1-16f8-4031-95f0-24ac606ceb8f",
   "metadata": {
    "collapsed": false,
    "jupyter": {
     "outputs_hidden": false
    }
   },
   "outputs": [],
   "source": []
  },
  {
   "cell_type": "code",
   "execution_count": null,
   "id": "ec95b685-726e-4756-bd9b-99f7e907d963",
   "metadata": {
    "collapsed": false,
    "jupyter": {
     "outputs_hidden": false
    }
   },
   "outputs": [],
   "source": []
  },
  {
   "cell_type": "code",
   "execution_count": null,
   "id": "9c86b567-1731-4b16-a762-8bc6f3eb5117",
   "metadata": {
    "collapsed": false,
    "jupyter": {
     "outputs_hidden": false
    }
   },
   "outputs": [],
   "source": []
  },
  {
   "cell_type": "code",
   "execution_count": null,
   "id": "4a2d29c9-e9ad-417c-8e32-baaf5f9d478d",
   "metadata": {
    "collapsed": false,
    "jupyter": {
     "outputs_hidden": false
    }
   },
   "outputs": [],
   "source": []
  }
 ],
 "metadata": {
  "kernelspec": {
   "display_name": "Python 3 (ipykernel)",
   "language": "python",
   "name": "python3"
  },
  "language_info": {
   "codemirror_mode": {
    "name": "ipython",
    "version": 3
   },
   "file_extension": ".py",
   "mimetype": "text/x-python",
   "name": "python",
   "nbconvert_exporter": "python",
   "pygments_lexer": "ipython3",
   "version": "3.12.6"
  },
  "name": "main-analysis.ipynb"
 },
 "nbformat": 4,
 "nbformat_minor": 5
}
