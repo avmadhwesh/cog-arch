{
 "cells": [
  {
   "cell_type": "code",
   "execution_count": 1,
   "id": "1cfc20bf-5b7a-4ba4-b5cb-260217b2fc59",
   "metadata": {
    "collapsed": false,
    "jupyter": {
     "outputs_hidden": false
    }
   },
   "outputs": [
    {
     "data": {
      "text/html": [
       "<div>\n",
       "<style scoped>\n",
       "    .dataframe tbody tr th:only-of-type {\n",
       "        vertical-align: middle;\n",
       "    }\n",
       "\n",
       "    .dataframe tbody tr th {\n",
       "        vertical-align: top;\n",
       "    }\n",
       "\n",
       "    .dataframe thead th {\n",
       "        text-align: right;\n",
       "    }\n",
       "</style>\n",
       "<table border=\"1\" class=\"dataframe\">\n",
       "  <thead>\n",
       "    <tr style=\"text-align: right;\">\n",
       "      <th></th>\n",
       "      <th>distance</th>\n",
       "      <th>same</th>\n",
       "      <th>cluster_structure</th>\n",
       "    </tr>\n",
       "  </thead>\n",
       "  <tbody>\n",
       "    <tr>\n",
       "      <th>13063661</th>\n",
       "      <td>0.090647</td>\n",
       "      <td>False</td>\n",
       "      <td>uniform</td>\n",
       "    </tr>\n",
       "    <tr>\n",
       "      <th>13064238</th>\n",
       "      <td>0.090647</td>\n",
       "      <td>False</td>\n",
       "      <td>uniform</td>\n",
       "    </tr>\n",
       "    <tr>\n",
       "      <th>9557900</th>\n",
       "      <td>0.118907</td>\n",
       "      <td>False</td>\n",
       "      <td>gaussian</td>\n",
       "    </tr>\n",
       "    <tr>\n",
       "      <th>9557949</th>\n",
       "      <td>0.118907</td>\n",
       "      <td>False</td>\n",
       "      <td>gaussian</td>\n",
       "    </tr>\n",
       "    <tr>\n",
       "      <th>20189717</th>\n",
       "      <td>0.193424</td>\n",
       "      <td>False</td>\n",
       "      <td>uniform</td>\n",
       "    </tr>\n",
       "  </tbody>\n",
       "</table>\n",
       "</div>"
      ],
      "text/plain": [
       "          distance   same cluster_structure\n",
       "13063661  0.090647  False           uniform\n",
       "13064238  0.090647  False           uniform\n",
       "9557900   0.118907  False          gaussian\n",
       "9557949   0.118907  False          gaussian\n",
       "20189717  0.193424  False           uniform"
      ]
     },
     "execution_count": 1,
     "metadata": {},
     "output_type": "execute_result"
    }
   ],
   "source": [
    "import numpy as np\n",
    "import pandas as pd\n",
    "import matplotlib.pyplot as plt\n",
    "\n",
    "n_trials = 5000\n",
    "\n",
    "radius = 300\n",
    "sd_radius = radius / 4\n",
    "cluster_numerosity = 10\n",
    "number_of_clusters = 5\n",
    "width = 800\n",
    "height = 500\n",
    "\n",
    "\n",
    "\n",
    "\n",
    "def generate_clustering(distribution):\n",
    "\n",
    "    clusters = []\n",
    "    \n",
    "    for j in range(number_of_clusters):\n",
    "\n",
    "        cluster = None\n",
    "\n",
    "        if distribution == \"uniform\":\n",
    "            cluster_mean_x = np.random.uniform(0, width)\n",
    "            cluster_mean_y = np.random.uniform(0, height)\n",
    "            points_x = np.random.uniform(0, radius, cluster_numerosity) - (radius / 2) + cluster_mean_x\n",
    "            points_y = np.random.uniform(0, radius, cluster_numerosity) - (radius / 2) + cluster_mean_y\n",
    "            cluster = { \"points\": np.vstack((points_x, points_y)).T }\n",
    "            \n",
    "\n",
    "        elif distribution == \"gaussian\":\n",
    "            cluster_mean_x = np.random.uniform(0, width)\n",
    "            cluster_mean_y = np.random.uniform(0, height)\n",
    "            points_x = np.random.normal(cluster_mean_x, sd_radius, cluster_numerosity)\n",
    "            points_y = np.random.normal(cluster_mean_y, sd_radius, cluster_numerosity)\n",
    "            cluster = { \"points\": np.vstack((points_x, points_y)).T }            \n",
    "        else:\n",
    "            raise NotImplementedError(\"Unknown distribution\")\n",
    "\n",
    "        clusters.append(cluster)\n",
    "        \n",
    "    return dict(clusters=clusters, group=distribution)\n",
    "    \n",
    "\n",
    "trials = []\n",
    "\n",
    "for i in range(n_trials):\n",
    "    trials.append(generate_clustering('uniform'))\n",
    "    trials.append(generate_clustering('gaussian'))\n",
    "\n",
    "def get_points(trial):\n",
    "   return [p for c in trial['clusters'] for p in c['points']]\n",
    "\n",
    "def point_distance(x, y):\n",
    "    return ((x[0] - y[0]) ** 2 + (x[1] - y[1]) ** 2) ** 0.5\n",
    "\n",
    "def trial_cluster_sets(clusters):\n",
    "    sets = []\n",
    "    for c in clusters:\n",
    "        cs = set()\n",
    "        for p in c['points']:\n",
    "            cs.add((p[0], p[1]))\n",
    "        sets.append(cs)\n",
    "    return sets\n",
    "\n",
    "def find_cluster_index(css, point):\n",
    "    for idx, cs in enumerate(css):\n",
    "        if (point[0], point[1]) in cs:\n",
    "            return idx\n",
    "    return None\n",
    "\n",
    "def is_same_cluster(css, p1, p2):\n",
    "    i1 = find_cluster_index(css, p1)\n",
    "    i2 = find_cluster_index(css, p2)\n",
    "    return i1 == i2\n",
    "\n",
    "\n",
    "def plot_clustering(trial):\n",
    "    fig, ax = plt.subplots()\n",
    "    info = []\n",
    "    for idx, c in enumerate(trial['clusters']):\n",
    "        for p in c['points']:\n",
    "            info.append(p + [idx])\n",
    "\n",
    "    info = np.array(info)    \n",
    "    ax.plot(info[:, 0], info[:, 1], color=info[:, 2])\n",
    "\n",
    "items = []\n",
    "\n",
    "for trial in trials:\n",
    "\n",
    "    ps = get_points(trial)\n",
    "\n",
    "    css = trial_cluster_sets(trial['clusters'])\n",
    "\n",
    "    for p1 in ps:\n",
    "        for p2 in ps:\n",
    "            if not (p1[0] == p2[0] and p1[1] == p2[1]):\n",
    "               d = point_distance(p1, p2)\n",
    "               items.append((d, is_same_cluster(css, p1, p2), trial['group']))\n",
    "\n",
    "df = pd.DataFrame(items, columns=('distance', 'same', 'cluster_structure')).sort_values('distance')\n",
    "df.head()"
   ]
  },
  {
   "cell_type": "code",
   "execution_count": 6,
   "id": "c9dfa0f1-b72f-402e-81b8-c3da208295c1",
   "metadata": {
    "collapsed": false,
    "jupyter": {
     "outputs_hidden": false
    }
   },
   "outputs": [
    {
     "data": {
      "image/png": "[encoded data removed]",
      "text/plain": [
       "<Figure size 640x480 with 1 Axes>"
      ]
     },
     "metadata": {},
     "output_type": "display_data"
    }
   ],
   "source": [
    "fig, ax = plt.subplots()\n",
    "\n",
    "tmp1 = df[df['cluster_structure'] == 'uniform']\n",
    "tmp = tmp1.groupby(pd.cut(tmp1['distance'], 100)).agg(same=('same', 'mean'), x_val=('distance', 'mean')).dropna()\n",
    "ax.plot(tmp['x_val'], tmp['same'], label='Uniform')\n",
    "tmp1 = df[df['cluster_structure'] == 'gaussian']\n",
    "tmp = tmp1.groupby(pd.cut(tmp1['distance'], 100)).agg(same=('same', 'mean'), x_val=('distance', 'mean')).dropna()\n",
    "ax.plot(tmp['x_val'], tmp['same'], label='Gaussian')\n",
    "\n",
    "ax.set_xlabel(\"Distance between points\")\n",
    "ax.set_ylabel(\"P(points in same cluster)\")\n",
    "\n",
    "fig.legend()\n",
    "\n",
    "fig.savefig(\"normality-simulations.png\", dpi=600)"
   ]
  },
  {
   "cell_type": "code",
   "execution_count": null,
   "id": "e088a7be-3c08-415a-9a61-43534333e7ef",
   "metadata": {
    "collapsed": false,
    "jupyter": {
     "outputs_hidden": false
    }
   },
   "outputs": [],
   "source": []
  },
  {
   "cell_type": "code",
   "execution_count": 3,
   "id": "05dff433-c6be-4d38-88f1-f1ba39920ca5",
   "metadata": {
    "collapsed": false,
    "jupyter": {
     "outputs_hidden": false
    }
   },
   "outputs": [],
   "source": [
    "def plot_clustering(trial):\n",
    "    fig, ax = plt.subplots()\n",
    "    info = []\n",
    "    for idx, c in enumerate(trial['clusters']):\n",
    "        for p in c['points']:\n",
    "            info.append(p + [idx])\n",
    "\n",
    "    info = np.array(info)    \n",
    "    print(info)\n",
    "    ax.plot(info[:, 0], info[:, 1], color=info[:, 2])\n",
    "\n"
   ]
  },
  {
   "cell_type": "code",
   "execution_count": 3,
   "id": "32d5b7f5-0e5a-4854-9a75-f6847a695836",
   "metadata": {
    "collapsed": false,
    "jupyter": {
     "outputs_hidden": false
    }
   },
   "outputs": [],
   "source": []
  },
  {
   "cell_type": "code",
   "execution_count": null,
   "id": "4b562c2c-019d-426b-bd6c-ef395c3f68b8",
   "metadata": {
    "collapsed": false,
    "jupyter": {
     "outputs_hidden": false
    }
   },
   "outputs": [],
   "source": []
  }
 ],
 "metadata": {
  "kernelspec": {
   "display_name": "Python 3 (ipykernel)",
   "language": "python",
   "name": "python3"
  },
  "language_info": {
   "codemirror_mode": {
    "name": "ipython",
    "version": 3
   },
   "file_extension": ".py",
   "mimetype": "text/x-python",
   "name": "python",
   "nbconvert_exporter": "python",
   "pygments_lexer": "ipython3",
   "version": "3.12.6"
  },
  "name": "normality-simulations.ipynb"
 },
 "nbformat": 4,
 "nbformat_minor": 5
}
